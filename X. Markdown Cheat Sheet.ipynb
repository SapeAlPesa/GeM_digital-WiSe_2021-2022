{
 "cells": [
  {
   "cell_type": "markdown",
   "id": "6aed235a",
   "metadata": {},
   "source": [
    "# Farbige Notizboxen"
   ]
  },
  {
   "cell_type": "markdown",
   "id": "226d3938",
   "metadata": {},
   "source": [
    "<div class=\"alert alert-block alert-info\">\n",
    "<b>Tip:</b> Use blue boxes (alert-info) for tips and notes. \n",
    "If it’s a note, you don’t have to include the word “Note”.\n",
    "</div>"
   ]
  },
  {
   "cell_type": "markdown",
   "id": "416bf073",
   "metadata": {},
   "source": [
    "<div class=\"alert alert-block alert-warning\">\n",
    "<b>Example:</b> Use yellow boxes for examples that are not \n",
    "inside code cells, or use for mathematical formulas if needed.\n",
    "</div>"
   ]
  },
  {
   "cell_type": "markdown",
   "id": "c1278543",
   "metadata": {},
   "source": [
    "<div class=\"alert alert-block alert-success\">\n",
    "<b>Up to you:</b> Use green boxes sparingly, and only for some specific \n",
    "purpose that the other boxes can't cover. For example, if you have a lot \n",
    "of related content to link to, maybe you decide to use green boxes for \n",
    "related links from each section of a notebook.\n",
    "</div>"
   ]
  },
  {
   "cell_type": "markdown",
   "id": "ddb72c14",
   "metadata": {},
   "source": [
    "<div class=\"alert alert-block alert-danger\">\n",
    "<b>Just don't:</b> In general, avoid the red boxes. These should only be\n",
    "used for actions that might cause data loss or another major issue.\n",
    "</div>"
   ]
  },
  {
   "cell_type": "markdown",
   "id": "9f24d1f1",
   "metadata": {},
   "source": [
    "# Geometrische Formen einfügen\n",
    "Um geometrische Formen einzufügen, muss man die Zeichen `&#DezCode;` verwenden. Ein Liste mit Dezimal-Code für geometrische Formen findet man [hier](https://www.w3schools.com/charsets/ref_utf_geometric.asp)"
   ]
  },
  {
   "cell_type": "markdown",
   "id": "2563d19d",
   "metadata": {},
   "source": [
    "+ schwarzes Quadrat:&#9632;\n",
    "+ weißes Quadrat: &#9633;\n",
    "+ usw."
   ]
  },
  {
   "cell_type": "markdown",
   "id": "eb9d22f1",
   "metadata": {},
   "source": [
    "# Eingerückter Text\n",
    "> Um Text einzurücken muss ein Größer-als-Zeichen verwendet werden"
   ]
  },
  {
   "cell_type": "markdown",
   "id": "c3ec227b",
   "metadata": {},
   "source": [
    "# Aufzählungen\n",
    "A solid circle - Hyphen (-)\n",
    "A solid rectangle - Asterisk (*)\n",
    "- Dies\n",
    "- ist\n",
    "- eine\n",
    "- Aufzählung\n",
    "---\n",
    " - Dies\n",
    " - ist\n",
    " - eine\n",
    " - Aufzählung\n",
    "---\n",
    "* Dies\n",
    "* ist\n",
    "* eine\n",
    "* Aufzählung\n",
    "---\n",
    "+ Dies\n",
    "+ ist\n",
    "+ eine\n",
    "+ Aufzählung"
   ]
  },
  {
   "cell_type": "markdown",
   "id": "346170da",
   "metadata": {},
   "source": [
    "WordPress\n",
    ":  A semantic personal publishing platform \n",
    "\n",
    "Markdown\n",
    ":  Text-to-HTML conversion tool"
   ]
  },
  {
   "cell_type": "markdown",
   "id": "634de954",
   "metadata": {},
   "source": [
    "That's some text with a footnote.[^1]\n",
    "\n",
    "[^1]: And that's the footnote."
   ]
  },
  {
   "cell_type": "markdown",
   "id": "5fa271b3",
   "metadata": {},
   "source": [
    "# Interne Verlinkung"
   ]
  },
  {
   "cell_type": "markdown",
   "id": "65dc9bc7",
   "metadata": {},
   "source": [
    "Verlinkung zu einem Abschnitt innerhalb des Notebooks:\n",
    "[hier](#Farbige-Notizboxen)  \n",
    "Beim Text innerhalb der Klammern müssen alle Sonder- und Leerzeichen durch Bindestriche ersetzt werden."
   ]
  },
  {
   "cell_type": "code",
   "execution_count": null,
   "id": "c2174b7d",
   "metadata": {},
   "outputs": [],
   "source": []
  }
 ],
 "metadata": {
  "kernelspec": {
   "display_name": "Python 3",
   "language": "python",
   "name": "python3"
  },
  "language_info": {
   "codemirror_mode": {
    "name": "ipython",
    "version": 3
   },
   "file_extension": ".py",
   "mimetype": "text/x-python",
   "name": "python",
   "nbconvert_exporter": "python",
   "pygments_lexer": "ipython3",
   "version": "3.8.8"
  }
 },
 "nbformat": 4,
 "nbformat_minor": 5
}
