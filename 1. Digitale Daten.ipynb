{
 "cells": [
  {
   "cell_type": "markdown",
   "id": "44b1d609",
   "metadata": {},
   "source": [
    "# 1. Digitale Daten in den Sozialwissenschaften"
   ]
  },
  {
   "cell_type": "markdown",
   "id": "40fa466a",
   "metadata": {},
   "source": [
    "Digitale Daten sind Daten, die bei digitalen Prozessen (am Computer, Tablet, Handy etc.) entstehen. Akteur:innen erzeugen durch ihr Handeln im Internet (Käufe und Verkäufe, Suchanfragen, E-Mail-Kommunikation, Posts, Likes, Telenfonate, Videoaufrufe etc.) digitale Spuren (*engl. digital trace*) und diese können für die Beantwortung wissenschaftlicher Fragestellungen genutzt werden.<br>\n",
    "Aus der Sicht der Sozialwissenschaften handelt es sich bei digitalen Daten meist um sog. *found data*, also Daten, die unabhängig von den Forschungsbemühungen von Wissenschaftler:innen in außerwissenschaftlichen Kontexten (in Unternehmen, Behörden, Nonprofit-Organisationen) entstehen und entsprechend \"einfach da\" sind. Diese Daten werden üblicherweise nicht unter den kontrollierten Bedingungen einer wissenschaftlichen Erhebung erzeugt (mit Bezug auf *wissenschaftliche Experimente* und *wissenschaftliche Umfragen* spricht man hier deshalb auch manchmal von *designed data*).<br>\n",
    "Das bedeutet auch, dass Wissenschaftler:innen üblicherweise keinen Einfluss darauf haben, *welche* Daten genau erhoben werden. Darüber hinaus ist häufig die Art und Weise, *wie* die Daten genau enstehen, nicht hinreichend bekannt. Diese Punkte haben einen Einfluss auf die Aussagekraft der mit solchen Daten gewonnen Erkenntnisse.<br>\n",
    "Trotz dieser Einschränkungen, die bei der Interpretation der Ergebnisse berücksichtigt werden müssen, haben digitale Daten Eigenschaften, die sie zur einer wertvollen Informationsquelle für die Sozialwissenschaften machen. Da digitale Daten häufig in sehr großen Mengen anfallen, wird in diesem Zusammenhang auch das Schlagwort *Big Data* verwendet."
   ]
  },
  {
   "cell_type": "markdown",
   "id": "4d66bd16",
   "metadata": {},
   "source": [
    "## 1.1 Das Sammeln digitaler Daten"
   ]
  },
  {
   "cell_type": "markdown",
   "id": "90ad52c2",
   "metadata": {},
   "source": [
    "Das Internet enthält zahlreiche wertvolle Informationen zu sozialen Phänomenen. Diese Informationen liegen in großen Mengen und in den unterschiedlichsten Datenformen vor: Texte, Fotos, Videos, Audiodateien usw. Diese Daten händisch (etwa mit Copy und Paste) zu sammeln, wäre sehr zeitaufwendig und extrem fehleranfällig.\n",
    "Daher werden diese Daten über Skripte (selbstgeschriebene Programmdateien) gesammelt und dann in ein Datenformat (Datenmatrix) überführt, mit dem Sozialwissenschaftler:innen gewohnt sind, zu arbeiten.<br>\n",
    "Grundsätzlich sind hier zwei Vorgehensweisen voneinander zu unterscheiden:\n",
    "+ Daten über sog. APIs aus dem Internet sammeln und speichern\n",
    "+ Daten mittels Webscraping aus dem Internet sammeln und speichern."
   ]
  },
  {
   "cell_type": "markdown",
   "id": "04011beb",
   "metadata": {},
   "source": [
    "### 1.1.1 Daten über APIs aus dem Internet sammeln und speichern"
   ]
  },
  {
   "cell_type": "markdown",
   "id": "ed389be5",
   "metadata": {},
   "source": [
    "Eine [API](https://de.wikipedia.org/wiki/Programmierschnittstelle) (Application Programming Interface) ist eine Programmierschnittstelle eines Webservers. APIs dienen dem Austausch von Daten zwischen einem Webserver und einer Anwendung (Maschine-zu-Maschine-Kommunikation).\n",
    "Der Zugriff auf eine API ist vergleichbar mit dem Aufruf einer Webseite. Der Unterschied ist folgender: wenn man eine Webseite aufruft, werden die benötigten Daten zur Darstellung der Webseite vom Webserver an den Webbrowser gesendet. Im Vordergrund steht hier die menschliche Informationsverarbeitung. Webseiten sollen ansprechend gestaltet sein.<br>\n",
    "Über die API gibt der Webserver die Daten demgegenüber so aus, dass diese für die maschinelle Verarbeitung optimiert sind. Daten, die von Webservern über APIs zur Verfügung gestellt werden, liegen meist im [JSON](https://de.wikipedia.org/wiki/JavaScript_Object_Notation)-Format vor. Dieses Datenformat hat in den letzten Jahren für den Austausch von Daten über das Internet eine weite Verbreitung erfahren.<br>\n",
    "Typische Schritte beim Sammeln von Daten über APIs sind:\n",
    "+ API-Dokumenation lesen: welche Daten werden in welchem Format vom Webseitenbetreiber geteilt\n",
    "+ Anfordern eines Entwicklerkontos bzw. eines Zugangsschlüssels, um auf die API zugreifen zu können\n",
    "+ gesuchte Informationen über ein Skript anfordern (API call)\n",
    "+ erhaltene Informationen einlesen\n",
    "+ Daten in einem Format speichern, das die gewünschte Weiterverarbeitung (z.B. statistische Analysen) ermöglicht\n",
    "\n",
    "Nicht immer sind APIs vorhanden, über die man Daten von Webservern beziehen kann. Aber auch wenn APIs vorhanden sind, sind nicht alle auf den Webseiten verfügbaren Informationen über APIs abrufbar oder nicht in der Form abrufbar, die man benötigt. Dann bietet sich Webscraping an."
   ]
  },
  {
   "cell_type": "markdown",
   "id": "add89f40",
   "metadata": {},
   "source": [
    "### 1.1.2 Daten mittels Webscraping aus dem Internet sammeln und speichern"
   ]
  },
  {
   "cell_type": "markdown",
   "id": "be778033",
   "metadata": {},
   "source": [
    "Mit [Webscraping](https://de.wikipedia.org/wiki/Screen_Scraping) wird der Einsatz von Skripten bezeichnet, die die relevanten Daten direkt aus dem [HTML](https://de.wikipedia.org/wiki/Hypertext_Markup_Language)-Code der entsprechenden Webseiten sammeln. Alle Informationen, die über einen Webbrowser abrufbar sind, können prinzipiell auch mit Webscrapern heruntergeladen werden. Webscraping ist also vergleichbar mit dem Surfen im Internet. Nur wird das mit einem Skript und nicht mit einem Webbrowser gemacht.\n",
    "Die Schritte beim Webscaping sind:\n",
    "+ Webseite aufrufen und den HTML-Code der Seite herunterladen\n",
    "+ gesuchte Informationen aus dem HTML-Code auslesen\n",
    "+ Informationen in einem Datenformat abspeichern, mit dem die Daten weiterverarbeiten werden können."
   ]
  },
  {
   "cell_type": "markdown",
   "id": "99a04b83",
   "metadata": {},
   "source": [
    "<div class=\"alert alert-block alert-danger\">\n",
    "<b>Achtung:</b> Webscraping kann gegen die Nutzungsbedingungen einer Webseite verstoßen. So heißt es beispielsweise in den <a href='https://twitter.com/de/tos'>Geschäftsbedingungen von Twitter</a> ausdrücklich: \"Das sogenannte 'Scraping' der Dienste ist ohne vorherige Genehmigung von Twitter ausdrücklich untersagt [...]\". Entsprechend wichtig ist es, sich vorher auf den Webseiten zu informieren, ob es erlaubt ist, Daten auf den jeweiligen Webseiten zu sammeln.<br>\n",
    "Relevant ist in diesem Zusammenhang auch die Datei <a href='https://de.wikipedia.org/wiki/Robots_Exclusion_Standard'>robots.txt</a>, die sich im Wurzelverzeichnis der meisten Domains befindet, beispielsweise: <a href='https://www.uni-hamburg.de/robots.txt'>https://www.uni-hamburg.de/robots.txt</a>. In dieser Datei ist vom Webseiten-Betreiber beschrieben, auf welche Verzeichnisse oder Dateien einer Webseite automatisiert zugregriffen werden darf.\n",
    "</div>"
   ]
  },
  {
   "cell_type": "markdown",
   "id": "485d78b6",
   "metadata": {},
   "source": [
    "## 1.2 Die Programmiersprache Python"
   ]
  },
  {
   "cell_type": "markdown",
   "id": "33d84462",
   "metadata": {},
   "source": [
    "Skripte, mit denen Daten aus dem Internet gesammelt werden, sind in einer Programmiersprache geschrieben. Eine sehr verbreitete und vergleichsweise einfach zu erlernende sowie kostenlose Programmiersprache ist [Python](https://www.python.org/). Python ist insbesondere im Bereich [Data Science](https://de.wikipedia.org/wiki/Data_Science) weit verbreitet. Python ist im Internet sehr gut dokumentiert. Eine Einführung in die Programmiersprache Python findet sich beispielsweise [hier](https://www.w3schools.com/python/python_intro.asp).\n",
    "\n",
    "Ein gut strukturiertes (über die SUB elektronisch verfügbares) Einführungsbuch in die Python-Programmierung ist:\n",
    "> Milliken, Connor P. (2020): *Python Projects for Beginners. A Ten-Week Bootcamp Approach to Python Programming*. New York: Apress. https://dx.doi.org/10.1007/978-1-4842-5355-7"
   ]
  },
  {
   "cell_type": "markdown",
   "id": "ca6bf17a",
   "metadata": {},
   "source": [
    "## 1.3 Juypter Notebook als interaktive Entwicklungsumgebung für Python"
   ]
  },
  {
   "cell_type": "markdown",
   "id": "7fbd54f9",
   "metadata": {},
   "source": [
    "Zum Programmieren benötigt man eine [integrierte Entwicklungsumgebung](https://de.wikipedia.org/wiki/Integrierte_Entwicklungsumgebung) (IDE für *integrated development environment*). Eine integrierte Entwicklungsumgebung ist eine Software, die eine Sammlung von Werkzeugen zur Verfügung stellt, welche die Entwicklung und das Testen von Programmen unterstützt (wie Code-Vervollständigung, Syntax-Highlighting, Einrückhilfen, syntaktische Fehlererkennung). Eine einfache und kostenlose Entwicklungsumgebung für Python, die sich an den Erfordernissen der wissenschaftlichen Datenanalyse orientiert, ist [Jupyter Notebook](https://jupyter.org/). Jupyter Notebook ermöglicht eine *interaktive* Python-Programmierung. Interaktiv heißt hier, dass man den Python-Code direkt in Jupyter Notebook ausführen kann (mit UMSCHALTTASTE + EINGABETASTE) und die Ergebnisse dann auch direkt in Jupyter Notebook angezeigt werden.<br>\n",
    "Sämtlicher Python-Code zu dieser Lehrveranstaltung und die dazugehörigen Erläuterungen werden von mir über Jupyter Notebook-Dateien zur Verfügung gestellt."
   ]
  },
  {
   "cell_type": "code",
   "execution_count": null,
   "id": "a6d73dc2",
   "metadata": {},
   "outputs": [],
   "source": []
  }
 ],
 "metadata": {
  "kernelspec": {
   "display_name": "Python 3",
   "language": "python",
   "name": "python3"
  },
  "language_info": {
   "codemirror_mode": {
    "name": "ipython",
    "version": 3
   },
   "file_extension": ".py",
   "mimetype": "text/x-python",
   "name": "python",
   "nbconvert_exporter": "python",
   "pygments_lexer": "ipython3",
   "version": "3.8.8"
  }
 },
 "nbformat": 4,
 "nbformat_minor": 5
}
