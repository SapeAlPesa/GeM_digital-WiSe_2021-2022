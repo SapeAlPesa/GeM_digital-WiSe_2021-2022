{
 "cells": [
  {
   "cell_type": "markdown",
   "id": "6349857c",
   "metadata": {},
   "source": [
    "<pre><code>{<br/>&nbsp;&nbsp;showToday: false,<br/>&nbsp;&nbsp;showClear: false,<br/>&nbsp;&nbsp;showClose: false<br/>}</code></pre>"
   ]
  },
  {
   "cell_type": "code",
   "execution_count": null,
   "id": "7df22096",
   "metadata": {},
   "outputs": [],
   "source": []
  }
 ],
 "metadata": {
  "kernelspec": {
   "display_name": "Python 3",
   "language": "python",
   "name": "python3"
  },
  "language_info": {
   "codemirror_mode": {
    "name": "ipython",
    "version": 3
   },
   "file_extension": ".py",
   "mimetype": "text/x-python",
   "name": "python",
   "nbconvert_exporter": "python",
   "pygments_lexer": "ipython3",
   "version": "3.8.8"
  }
 },
 "nbformat": 4,
 "nbformat_minor": 5
}
