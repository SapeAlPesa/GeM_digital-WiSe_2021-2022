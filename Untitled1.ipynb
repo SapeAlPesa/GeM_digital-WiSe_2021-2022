{
 "cells": [
  {
   "cell_type": "code",
   "execution_count": 1,
   "id": "3420f31e",
   "metadata": {},
   "outputs": [
    {
     "name": "stdout",
     "output_type": "stream",
     "text": [
      "Hello!\n"
     ]
    }
   ],
   "source": [
    "def greet_user():\n",
    "    \"\"\"Display a simple greeting.\"\"\"\n",
    "    print(\"Hello!\")\n",
    "    \n",
    "greet_user()"
   ]
  },
  {
   "cell_type": "code",
   "execution_count": 2,
   "id": "8d59b2a9",
   "metadata": {},
   "outputs": [
    {
     "name": "stdout",
     "output_type": "stream",
     "text": [
      "Hello, Sascha!\n"
     ]
    }
   ],
   "source": [
    "def greet_user(username): # username ist Parameter\n",
    "    \"\"\"Display a simple greeting.\"\"\"\n",
    "    print(f\"Hello, {username.title()}!\")\n",
    "\n",
    "greet_user('Sascha') # Sascha ist das Argument, das dem Parameter 'username' zugewiesen wurde"
   ]
  },
  {
   "cell_type": "code",
   "execution_count": 3,
   "id": "4cabd0ae",
   "metadata": {},
   "outputs": [
    {
     "name": "stdout",
     "output_type": "stream",
     "text": [
      "Hello, Dracula!\n"
     ]
    }
   ],
   "source": [
    "greet_user('dracula')"
   ]
  },
  {
   "cell_type": "code",
   "execution_count": 4,
   "id": "8b2e249c",
   "metadata": {},
   "outputs": [],
   "source": [
    "def display_message():\n",
    "    \"\"\"Display what chapter 8 is about.\"\"\"\n",
    "    print(\"In this chapter I am learning the basics of programming functions.\")    "
   ]
  },
  {
   "cell_type": "code",
   "execution_count": 5,
   "id": "f30de644",
   "metadata": {},
   "outputs": [
    {
     "name": "stdout",
     "output_type": "stream",
     "text": [
      "In this chapter I am learning the basics of programming functions.\n"
     ]
    }
   ],
   "source": [
    "display_message()"
   ]
  },
  {
   "cell_type": "code",
   "execution_count": 14,
   "id": "2504a3fd",
   "metadata": {},
   "outputs": [],
   "source": [
    "def favorite_book(book_title):\n",
    "    \"\"\"Display the user's favorite book.\"\"\"\n",
    "    print(f\"One of my favorite books is '{book_title}'.\")    "
   ]
  },
  {
   "cell_type": "code",
   "execution_count": 15,
   "id": "c67c0329",
   "metadata": {},
   "outputs": [
    {
     "name": "stdout",
     "output_type": "stream",
     "text": [
      "One of my favorite books is 'Schnee, der auf Zedern fällt'.\n"
     ]
    }
   ],
   "source": [
    "favorite_book('Schnee, der auf Zedern fällt')"
   ]
  },
  {
   "cell_type": "code",
   "execution_count": null,
   "id": "5289c9ee",
   "metadata": {},
   "outputs": [],
   "source": []
  }
 ],
 "metadata": {
  "kernelspec": {
   "display_name": "Python 3",
   "language": "python",
   "name": "python3"
  },
  "language_info": {
   "codemirror_mode": {
    "name": "ipython",
    "version": 3
   },
   "file_extension": ".py",
   "mimetype": "text/x-python",
   "name": "python",
   "nbconvert_exporter": "python",
   "pygments_lexer": "ipython3",
   "version": "3.8.8"
  }
 },
 "nbformat": 4,
 "nbformat_minor": 5
}
