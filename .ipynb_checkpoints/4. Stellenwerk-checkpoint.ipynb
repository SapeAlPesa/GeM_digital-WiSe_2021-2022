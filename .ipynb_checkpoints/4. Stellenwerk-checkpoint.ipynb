{
 "cells": [
  {
   "cell_type": "markdown",
   "id": "4c5c0cf6",
   "metadata": {},
   "source": [
    "# Webscraper für die Studentenjobs auf www.stellenwerk-hamburg.de"
   ]
  },
  {
   "cell_type": "markdown",
   "id": "63dddc01",
   "metadata": {},
   "source": [
    "## Installieren und importieren benötigter Bibliotheken"
   ]
  },
  {
   "cell_type": "markdown",
   "id": "34df5aa6",
   "metadata": {},
   "source": [
    "Die Python-Bibliotheken *requests* und *BeautifulSoup* müssen vor der ersten Verwendung installiert werden. Zur Installation unter Windows muss folgender Code in die [Eingabeaufforderung](https://www.youtube.com/watch?v=Bmt3n9RczeU) eingegeben werden (Code für die Eingabeaufforderung beginnt `$`, um zu verdeutlichen, dass es kein Python-Code ist; `$` ist aber kein Bestandteil des Codes): `$ python -m pip install requests`. Um *requests* upzudaten, muss folgende Zeile in die Eingabeaufforderung eingegeben werden: `$ python -m pip install --upgrade requests`. Beide Codezeilen setzen voraus, dass das sowohl Python als auch das Paketverwaltungsprogramm *pip* installiert sind. Beides kann in der Eingabeaufforderung mit `$ python` und `$ python -m pip --version` getestet werden."
   ]
  },
  {
   "cell_type": "markdown",
   "id": "361cf5b0",
   "metadata": {},
   "source": [
    "Die Bibliotheken *time* und *csv* sind Teil von Pyhton und müssen nicht extra installiert werden. Sie müssen aber importiert werden, damit man sie verwenden kann."
   ]
  },
  {
   "cell_type": "markdown",
   "id": "4841f0a9",
   "metadata": {},
   "source": [
    "Alle benötigten Bibliotheken laden:"
   ]
  },
  {
   "cell_type": "code",
   "execution_count": 2,
   "id": "99867df9",
   "metadata": {},
   "outputs": [],
   "source": [
    "import requests\n",
    "from bs4 import BeautifulSoup\n",
    "import time\n",
    "import csv"
   ]
  },
  {
   "cell_type": "markdown",
   "id": "95af9ace",
   "metadata": {},
   "source": [
    "## Anforderungen an den Web Scraper"
   ]
  },
  {
   "cell_type": "markdown",
   "id": "c517a1cd",
   "metadata": {},
   "source": [
    "Die **Stellenanzeigen für Studentenjobs** auf den Seiten des Stellenwerks sind [hier](https://www.stellenwerk-hamburg.de/jobboerse/unternehmen/studentenjobs) zu finden.\n",
    "Die Seite ist so aufgebaut, dass immer 20 Stellenangebote auf einer Seite verlinkt werden. Um die nächsten 20 Stellenangebote zu sehen, muss weitergeblättert werden. Die eigentliche Information zur Stelle findet sich hinter dem jeweiligen Link. Um an die Informationen über die Stellenangebote zu gelangen, müssen entsprechend diese Job-spezifischen Links aufgerufen werden.\n",
    "Der Webscraper für das Stellenwerk muss somit\n",
    "- blättern\n",
    "- wissen, wie oft weitergeblättert werden muss (Seitenzahl)\n",
    "- die 20 Links je Seite auslesen\n",
    "- eine Liste aller (Seitenzahl x 20) Links zusammenstellen\n",
    "- alle so gewonnen Links zu den jeweiligen Stellenanzeigen aufrufen\n",
    "- die stellenbezogenen Informationen extrahieren\n",
    "- die extrahierten Informationen in einer CSV-Datei abspeichern."
   ]
  },
  {
   "cell_type": "markdown",
   "id": "a8ed8583",
   "metadata": {},
   "source": [
    "## Aufbau der URL des Stellenwerks"
   ]
  },
  {
   "cell_type": "markdown",
   "id": "2fe44070",
   "metadata": {},
   "source": [
    "Wenn man durch die Seiten mit den Stellenanzeigen blättert, stellt man fest, dass die URL des Stellenwerks [*query strings*](https://de.wikipedia.org/wiki/Query-String) nutzt, um Parameter (insbesondere der Suchanfrage) an den Webserver zu senden. Die URLs haben folgenden beispielhaften Aufbau:\n",
    "\n",
    "https://www.stellenwerk-hamburg.de/jobboerse/unternehmen/studentenjobs?keywords=&offer_type=job_ad_b2b&job_category=111&employment_type=All&page=1\n",
    "\n",
    "Der Query-String wird mit einem Fragezeichen (?) eingeleitet. Davor steht die die Basis-URL. Somit läst sich der URL des Stellenwerks in folgende Bestandteile gliedern:\n",
    "\n",
    "- Basis-URL: https://www.stellenwerk-hamburg.de/jobboerse/unternehmen/studentenjobs\n",
    "- Query-String: [keywords=&offer_type=job_ad_b2b&job_category=111&employment_type=All&page=1](https://www.stellenwerk-hamburg.de/jobboerse/unternehmen/studentenjobs?keywords=&offer_type=job_ad_b2b&job_category=111&employment_type=All&page=1)<br>\n",
    "mit folgenden Schlüssel-Wert-Paaren:\n",
    "    - keywords=\n",
    "    - offer_type=job_ad_b2b\n",
    "    - job_category=111\n",
    "    - employment_type=All\n",
    "    - page=1\n",
    "\n",
    "Diese Schlüssel-Wert-Paare des query strings werden im Folgenden in einem [Python-Dictionary](https://www.w3schools.com/python/python_dictionaries.asp) mit den Namen *query* gespeichert. Das Python-Dictionary wird dann - neben der Basis-URL - an *requests* übergeben, um die Webseite aufzurufen:"
   ]
  },
  {
   "cell_type": "code",
   "execution_count": 3,
   "id": "289257cb",
   "metadata": {},
   "outputs": [],
   "source": [
    "base_url = \"https://www.stellenwerk-hamburg.de/jobboerse/unternehmen/studentenjobs\"\n",
    "query = {\n",
    "    'keywords': '',\n",
    "    'offer_type': 'job_ad_b2b',\n",
    "    'job_category': '111',\n",
    "    'employment_type': 'All',\n",
    "    'page': '0'\n",
    "}"
   ]
  },
  {
   "cell_type": "markdown",
   "id": "1fc6e25a",
   "metadata": {},
   "source": [
    "## Wir tarnen uns als Firefox "
   ]
  },
  {
   "cell_type": "markdown",
   "id": "375a0c19",
   "metadata": {},
   "source": [
    "Standardmäßig offenbart sich die *requests*-Bibliothek selbst, indem sie sich im request header als User-Agent nennt: **'User-Agent': 'python-requests/2.26.0'**.<br>\n",
    "Um nicht sofort als Web-Scraper aufzufallen, ändern wir den entsprechenden Eintrag im request header und geben uns als Firefox-Browser aus (die Angaben, die Firefox sendet, habe ich mit den *Werkzeugen für Webentwickler* im Firefox-Browser ermittelt über **Netzwerkanalyse** &rightarrow; **Kopfzeilen** &rightarrow; **Anfragekopfzeilen**). Dazu werden die Angaben, die Firefox sendet, in einem Python-Dictionary namens *my_headers* gespeichert, damit sie an *requests* übergeben werden können. Damit werden die ursprünglichen Angaben zum User-Agenten überschrieben."
   ]
  },
  {
   "cell_type": "code",
   "execution_count": 4,
   "id": "2b33bbcd",
   "metadata": {},
   "outputs": [],
   "source": [
    "my_headers = {'User-Agent': 'Mozilla/5.0 (Windows NT 10.0; Win64; x64; rv:91.0) Gecko/20100101 Firefox/91.0'}"
   ]
  },
  {
   "cell_type": "markdown",
   "id": "93f5e879",
   "metadata": {},
   "source": [
    "## Aufruf der Webseite"
   ]
  },
  {
   "cell_type": "markdown",
   "id": "a50d5030",
   "metadata": {},
   "source": [
    "Nun wird ein *Get-Request* zum Aufruf der Stellenwerk-Webseite an den Webserver gestellt. Neben der Basis-URL müssen auch die Informationen aus dem query string an *requests* übergeben werden. Dazu wird das oben erstellte Python-Dictionary mit den Namen *query* dem funktionseigenen Argument *params* übergeben. Ebenso wird das Dictionary mit dem Namen *my_headers* dem funktionseigenen Argument *headers* übergeben, um uns so als Firefox auszugeben.<br>\n",
    "Anfrage und die Antwort des Webservers werden von *requests* in einem sog. Response-Objekt gespeichert. Dieses Response-Objekt wird dann der [Variablen](https://www.w3schools.com/python/python_variables.asp) *r* zugewiesen, so dass wir im weiteren Verlauf damit arbeiten können."
   ]
  },
  {
   "cell_type": "code",
   "execution_count": 5,
   "id": "23ab1e62",
   "metadata": {},
   "outputs": [],
   "source": [
    "r = requests.get(base_url, params = query, headers = my_headers)"
   ]
  },
  {
   "cell_type": "code",
   "execution_count": 6,
   "id": "77f346a5",
   "metadata": {},
   "outputs": [
    {
     "name": "stdout",
     "output_type": "stream",
     "text": [
      "https://www.stellenwerk-hamburg.de/jobboerse/unternehmen/studentenjobs?keywords=&offer_type=job_ad_b2b&job_category=111&employment_type=All&page=0\n"
     ]
    }
   ],
   "source": [
    "print(r.request.url)"
   ]
  },
  {
   "cell_type": "code",
   "execution_count": 7,
   "id": "ed299034",
   "metadata": {},
   "outputs": [
    {
     "name": "stdout",
     "output_type": "stream",
     "text": [
      "{'User-Agent': 'Mozilla/5.0 (Windows NT 10.0; Win64; x64; rv:91.0) Gecko/20100101 Firefox/91.0', 'Accept-Encoding': 'gzip, deflate', 'Accept': '*/*', 'Connection': 'keep-alive'}\n"
     ]
    }
   ],
   "source": [
    "print(r.request.headers)"
   ]
  },
  {
   "cell_type": "code",
   "execution_count": 8,
   "id": "dca152b9",
   "metadata": {},
   "outputs": [
    {
     "name": "stdout",
     "output_type": "stream",
     "text": [
      "200\n",
      "OK\n"
     ]
    }
   ],
   "source": [
    "print(r.status_code)\n",
    "print(r.reason)"
   ]
  },
  {
   "cell_type": "markdown",
   "id": "2f13f16a",
   "metadata": {},
   "source": [
    "## HTML-Code der Webseite speichern"
   ]
  },
  {
   "cell_type": "markdown",
   "id": "54195edd",
   "metadata": {},
   "source": [
    "Nun wird der übermittelte HTML-Quellcode der Stellenwerk-Webseite als Unicode-Text aus dem Response-Objekt *r* extrahiert und in der Variable *html* gespeichert:"
   ]
  },
  {
   "cell_type": "code",
   "execution_count": 9,
   "id": "2ed87063",
   "metadata": {},
   "outputs": [],
   "source": [
    "html = r.text"
   ]
  },
  {
   "cell_type": "markdown",
   "id": "83038bcd",
   "metadata": {},
   "source": [
    "Diese Variable wird als Input an *BeautifulSoup* übergeben und von *BeautifulSoup* in ein *BeautifulSoup*-Objekt umgewandelt. Dieses *BeautifulSoup*-Objekt wird dann der Variable *bs* zugewiesen:"
   ]
  },
  {
   "cell_type": "code",
   "execution_count": 10,
   "id": "be089ea1",
   "metadata": {},
   "outputs": [],
   "source": [
    "bs = BeautifulSoup(html, 'html.parser')"
   ]
  },
  {
   "cell_type": "markdown",
   "id": "452261df",
   "metadata": {},
   "source": [
    "## Gesuchte Informationen aus dem HTML-Code auslesen"
   ]
  },
  {
   "cell_type": "markdown",
   "id": "91ac0132",
   "metadata": {},
   "source": [
    "Aus dem HTML-Quellcode wird das HTML-Element ausgelesen, in dem die Stellenanzeigen zu finden sind. Um dieses Element im Quellcode zu identifizieren, verwendet man die *Browserwerkzeuge* bzw. *Entwicklertools* des jeweiligen Browsers. Diese kann man in den meisten Browsern mit <kbd>Strg</kbd>+<kbd>UMSCHALTTASTE</kbd>+<kbd>I</kbd> öffnen.<br> \n",
    "Hier sind rudimentäre Kenntnisse von HTML und CSS hilfreich, um die entsprechenden Elemente zu bestimmen.<br>\n",
    "Die Informationen zu den ausgeschriebenen Jobs befinden sich in einem\n",
    "[div](https://www.w3schools.com/tags/tag_div.ASP)-Tag, welches mit einem [CSS class Selector](https://www.w3schools.com/css/css_selectors.asp) gestaltet wurde. In diesem Fall ist class=\"JobSearch-content\". Mit diesen Informationen und der Funktion  `find()` von *BeautifulSoup* können die entsprechenden Informationen aus dem HTML-Quellcode extrahiert und in eine Variable *job_ads* gespeichert werden."
   ]
  },
  {
   "cell_type": "code",
   "execution_count": null,
   "id": "4c3cae7a",
   "metadata": {},
   "outputs": [],
   "source": [
    "job_ads = bs.find('div', class_ = 'JobSearch-content')"
   ]
  },
  {
   "cell_type": "markdown",
   "id": "ab77cdf9",
   "metadata": {},
   "source": [
    "Aus diesem so extrahierten HTML-Element werden in einem weiteren Schritt alle Links zu den Stellenanzeigen ausgelesen. Links werden in HTML über einen [a](https://www.w3schools.com/tags/tag_a.asp)-Tag definiert. "
   ]
  },
  {
   "cell_type": "code",
   "execution_count": 12,
   "id": "fd2585e4",
   "metadata": {},
   "outputs": [],
   "source": [
    "job_links = job_ads.find_all('a', class_ = 'Link')"
   ]
  },
  {
   "cell_type": "markdown",
   "id": "8d21674f",
   "metadata": {},
   "source": [
    "Anzahl an Stellenanzeigen in der Liste job_links."
   ]
  },
  {
   "cell_type": "code",
   "execution_count": 13,
   "id": "d325b7f8",
   "metadata": {},
   "outputs": [
    {
     "name": "stdout",
     "output_type": "stream",
     "text": [
      "20\n"
     ]
    }
   ],
   "source": [
    "print(len(job_links)) "
   ]
  },
  {
   "cell_type": "code",
   "execution_count": 14,
   "id": "98a6635a",
   "metadata": {},
   "outputs": [],
   "source": [
    "rows = []\n",
    "for link in job_links:\n",
    "    link = 'https://www.stellenwerk-hamburg.de' + link['href']\n",
    "    rows.append(link)"
   ]
  },
  {
   "cell_type": "code",
   "execution_count": 15,
   "id": "6a49680b",
   "metadata": {},
   "outputs": [
    {
     "name": "stdout",
     "output_type": "stream",
     "text": [
      "https://www.stellenwerk-hamburg.de/jobboerse/werkstudent-content-management-running-und-outdoorschuhdatenbank-mwd-hamburg-211020\n",
      "https://www.stellenwerk-hamburg.de/jobboerse/werkstudent-mwd-hamburg-211020-498226\n",
      "https://www.stellenwerk-hamburg.de/jobboerse/werkstudent-oder-praktikant-im-bereich-influencer-marketing-mwd-hamburg-211104-501088\n",
      "https://www.stellenwerk-hamburg.de/jobboerse/kursleiterinnen-fuer-sport-tanzangebote-hamburg-211104-501077\n",
      "https://www.stellenwerk-hamburg.de/jobboerse/werkstudent-dmw-board-management-support-hamburg-211104-501068\n",
      "https://www.stellenwerk-hamburg.de/jobboerse/job-purpose-student-contract-work-software-development-mfd-hamburg-211104-501064\n",
      "https://www.stellenwerk-hamburg.de/jobboerse/bee-keeper-fuer-hamburg-und-schleswig-holstein-hamburg-211104-501049\n",
      "https://www.stellenwerk-hamburg.de/jobboerse/werkstudentin-kundenberatung-hamburg-211104-501045\n",
      "https://www.stellenwerk-hamburg.de/jobboerse/studentische-hilfskraft-mwd-prozessmanagement-hamburg-211104-501034\n",
      "https://www.stellenwerk-hamburg.de/jobboerse/student-oder-absolven-als-vertriebsassistentin-insite-sales-managerin-hamburg-211104\n",
      "https://www.stellenwerk-hamburg.de/jobboerse/studentische-aushilfe-mwd-fuer-lohn-buchhaltung-und-verwaltungstaetigkeiten-hamburg\n",
      "https://www.stellenwerk-hamburg.de/jobboerse/werkstudent-portfoliobewertung-mwd-hamburg-211104-501014\n",
      "https://www.stellenwerk-hamburg.de/jobboerse/studentische-aushilfe-mwd-fashion-ecommerce-hamburg-allermoehe-hamburg-allermoehe-211104\n",
      "https://www.stellenwerk-hamburg.de/jobboerse/serviceheld-gesucht-hamburg-211104-500989\n",
      "https://www.stellenwerk-hamburg.de/jobboerse/fanshop-aushilfen-mwd-auf-minijob-basis-hamburg-211104-500987\n",
      "https://www.stellenwerk-hamburg.de/jobboerse/aushilfen-mwd-fuer-harry-potter-im-mehr-theater-hamburg-gesucht-hamburg-211104-500965\n",
      "https://www.stellenwerk-hamburg.de/jobboerse/testleiter-mdw-fuer-die-durchfuehrung-von-onlinebasierten-testverfahren-hamburg-211104\n",
      "https://www.stellenwerk-hamburg.de/jobboerse/werkstudent-crm-gesucht-mwd-hamburg-211104-500960\n",
      "https://www.stellenwerk-hamburg.de/jobboerse/recherchen-und-update-adressdatenbank-hamburg-211103-500937\n",
      "https://www.stellenwerk-hamburg.de/jobboerse/accountantbuchhalterin-fuer-meeresstiftung-hamburg-211103-500935\n"
     ]
    }
   ],
   "source": [
    "for row in rows:\n",
    "    print(row)"
   ]
  },
  {
   "cell_type": "markdown",
   "id": "37dc6d11",
   "metadata": {},
   "source": [
    "## Blättern"
   ]
  },
  {
   "cell_type": "markdown",
   "id": "3bad0f20",
   "metadata": {},
   "source": [
    "Die Anzeigen sind über mehrere Seiten verteilt. Wir müssen also blättern. Wie oft geblättert werden muss, kann man der Seite entnehmen:"
   ]
  },
  {
   "cell_type": "code",
   "execution_count": 11,
   "id": "c1473158",
   "metadata": {},
   "outputs": [
    {
     "name": "stdout",
     "output_type": "stream",
     "text": [
      "Seite 1 von 53\n"
     ]
    }
   ],
   "source": [
    "pages = bs.find('span', class_ = 'Pagination-text').get_text()\n",
    "print(pages)"
   ]
  },
  {
   "cell_type": "markdown",
   "id": "ae077925",
   "metadata": {},
   "source": [
    "Aus diesem String kann man die maximale Seitenzahl folgendermaßen extrahieren:<br>\n",
    "Der String wird über die Methode `.split()` am Leerzeichen (' ') in seine Komponenten zerlegt. Aus dieser Liste wird dann das vierte Element extrahiert. Das vierte Element hat den Index 3, da die Indexzählung bei 0 beginnt. Schließlich wird der String mit `int()` in ein Integer (ganzzahliger Wert) umgewandelt und ist somit numerisch:"
   ]
  },
  {
   "cell_type": "code",
   "execution_count": 11,
   "id": "f3a35884",
   "metadata": {},
   "outputs": [],
   "source": [
    "page_max = int(pages.split(' ')[3])"
   ]
  },
  {
   "cell_type": "code",
   "execution_count": 12,
   "id": "16f51b5e",
   "metadata": {},
   "outputs": [
    {
     "name": "stdout",
     "output_type": "stream",
     "text": [
      "54\n",
      "<class 'int'>\n"
     ]
    }
   ],
   "source": [
    "print(page_max)\n",
    "print(type(page_max))"
   ]
  },
  {
   "cell_type": "markdown",
   "id": "d99a968c",
   "metadata": {},
   "source": [
    "Nun kann diese Info genutzt werden, um zu blättern. Dazu wird eine for-Schleife verwendet. In jedem Schleifendurchlauf wird im query string der Wert für den Schlüssel *page* (s. oben unter Aufbau der URL des Stellenwerks) um eins erhöht."
   ]
  },
  {
   "cell_type": "code",
   "execution_count": 41,
   "id": "c4c26ecb",
   "metadata": {
    "scrolled": true
   },
   "outputs": [],
   "source": [
    "all_links = []\n",
    "for page in range(2): #page_max + 1\n",
    "    query[\"page\"] = page # Seitenzahl wird in jedem Schleifendurchlauf um 1 erhöht\n",
    "    r = requests.get(base_url, params = query) # Webseite aufrufen\n",
    "    html = r.text # HTML-Code der Webseite speichern\n",
    "    bs = BeautifulSoup(html, 'html.parser') # HTML-Code an BeautifulSoup übergeben\n",
    "    job_ads = bs.find('div', class_ = 'JobSearch-content') # Spalte mit den Stellenanzeigen extrahieren\n",
    "    job_links = job_ads.find_all('a', class_ = 'Link') # aus dieser Spalte die Links zu den Anzeigen extrahieren\n",
    "    for link in job_links: # die extrahierten Links sind relativ, entsprechend die Homepage des Stellenwerks jedem Link vorangestellt werden\n",
    "        link = 'https://www.stellenwerk-hamburg.de' + link['href']\n",
    "        all_links.append(link)\n",
    "    time.sleep(2) # zwei Sekunden Verzögerung nach jedem Seitenaufruf: friendly scraping"
   ]
  },
  {
   "cell_type": "markdown",
   "id": "21b9bd18",
   "metadata": {},
   "source": [
    "Wie viele Elemente hat die Liste *all_links*? Diese Anzahl entspricht der Anzahl an Stellenangeboten."
   ]
  },
  {
   "cell_type": "code",
   "execution_count": 44,
   "id": "95bdb082",
   "metadata": {},
   "outputs": [
    {
     "name": "stdout",
     "output_type": "stream",
     "text": [
      "40\n"
     ]
    }
   ],
   "source": [
    "print(len(all_links))"
   ]
  },
  {
   "cell_type": "markdown",
   "id": "f58d5d7b",
   "metadata": {},
   "source": [
    "Nun liegt eine Liste mit allen Links zu den Stellenangeboten vor. Mit Hilfe einer For-Schleife kann jeder Link aufgerufen und die relevanten Informationen zu den Stellenanzeigen extrahiert werden."
   ]
  },
  {
   "cell_type": "code",
   "execution_count": 67,
   "id": "0736ee35",
   "metadata": {},
   "outputs": [
    {
     "name": "stdout",
     "output_type": "stream",
     "text": [
      "200\n",
      "OK\n",
      "Werkstudent (m/w/d) für Backofficetätigkeiten / Gänsemarkt HH / 15€ Std.\n",
      "Online seit 14.10.2021\n",
      "\n",
      "Die Certum Finanz GmbH ist ein deutschlandweit agierendes Maklerunternehmen für Kapitalanlagen. Der Sitz ist in Hamburg am Gänsemarkt. Für unser kleines aber ganz großartiges Team suchen wir eine vor allem nette und zuverlässige Unterstützung bei einfachen Officetätigkeiten.\n",
      "\n",
      "[<li class=\"JobHead-additionalInfoItem\">211014-497098</li>]\n"
     ]
    }
   ],
   "source": [
    "#link = 'https://www.stellenwerk-hamburg.de/jobboerse/werkstudent-mwd-fuer-backofficetaetigkeiten-gaensemarkt-hh-15eu-std-hamburg-211014-497098'\n",
    "#r = requests.get(link, headers = my_headers)\n",
    "print(r.status_code)\n",
    "print(r.reason)\n",
    "html = r.text\n",
    "bs = BeautifulSoup(html, 'html.parser')\n",
    "job_title = bs.find('h1', class_ = 'JobHead-title').get_text()\n",
    "ad_date = bs.find('li', class_ = 'JobHead-additionalInfoItem').get_text()\n",
    "ad_id = bs.select('li.JobHead-additionalInfoItem:nth-child(2)')\n",
    "\n",
    "ad_id = bs.select('li.JobHead-additionalInfoItem:nth-child(2)')\n",
    "job_descrip = bs.find('div', class_ = 'RichText').get_text()\n",
    "print(job_title)\n",
    "print(ad_date)\n",
    "print(job_descrip)\n",
    "print(ad_id)"
   ]
  },
  {
   "cell_type": "code",
   "execution_count": null,
   "id": "fa1053a2",
   "metadata": {},
   "outputs": [],
   "source": [
    "for link in all_links:\n",
    "    r = requests.get(link, headers = my_headers)\n",
    "    html = r.text\n",
    "    bs = BeautifulSoup(html, 'html.parser')\n",
    "    job_title = bs.find()\n",
    "\n",
    "    \n",
    "    time.sleep(2) # zwei Sekunden Verzögerung nach jedem Seitenaufruf: friendly scraping\n",
    "    "
   ]
  },
  {
   "cell_type": "code",
   "execution_count": 75,
   "id": "4517daea",
   "metadata": {},
   "outputs": [],
   "source": [
    "def stellenwerk(url):\n",
    "    html = r.text\n",
    "    bs = BeautifulSoup(html, 'html.parser')\n",
    "    job_ads = bs.find('div', class_ = 'JobSearch-content')\n",
    "    job_links = job_ads.find_all('a', class_ = 'Link')\n",
    "    rows = []\n",
    "    for link in job_links:\n",
    "        text = link.get_text()\n",
    "        link = 'https://www.stellenwerk-hamburg.de' + link['href']\n",
    "        row = {\n",
    "        'text': text,\n",
    "        'links': link\n",
    "        }\n",
    "    rows.append(row)"
   ]
  },
  {
   "cell_type": "markdown",
   "id": "ce6bef10",
   "metadata": {},
   "source": [
    "Extrahierte Daten (Text und Link) in eine CSV-Datei schreiben:"
   ]
  },
  {
   "cell_type": "code",
   "execution_count": 76,
   "id": "f8b5f346",
   "metadata": {},
   "outputs": [],
   "source": [
    "file = 'daten/job_ads.csv'\n",
    "with open(file, mode = 'w', newline = '') as f:\n",
    "    col_names = ['text', 'links']\n",
    "    writer = csv.DictWriter(f, fieldnames = col_names)\n",
    "    writer.writeheader()\n",
    "    for row in rows:\n",
    "        writer.writerow(row)"
   ]
  },
  {
   "cell_type": "code",
   "execution_count": null,
   "id": "941fb995",
   "metadata": {},
   "outputs": [],
   "source": []
  }
 ],
 "metadata": {
  "kernelspec": {
   "display_name": "Python 3",
   "language": "python",
   "name": "python3"
  },
  "language_info": {
   "codemirror_mode": {
    "name": "ipython",
    "version": 3
   },
   "file_extension": ".py",
   "mimetype": "text/x-python",
   "name": "python",
   "nbconvert_exporter": "python",
   "pygments_lexer": "ipython3",
   "version": "3.8.8"
  }
 },
 "nbformat": 4,
 "nbformat_minor": 5
}
