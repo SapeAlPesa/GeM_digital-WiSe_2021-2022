{
 "cells": [
  {
   "cell_type": "markdown",
   "id": "0217c2ac",
   "metadata": {},
   "source": [
    "# Digitale Daten in den Sozialwissenschaften"
   ]
  },
  {
   "cell_type": "markdown",
   "id": "73018a07",
   "metadata": {},
   "source": [
    "Digitale Daten sind Daten, die bei digitalen Prozessen (am Computer, Tablet, Handy etc.) entstehen. Akteur:innen erzeugen durch ihr Handeln im Internet (Käufe, Suchanfragen, Posts, Likes, Videoaufrufe etc.) digitale Spuren und diese können für die Beantwortung wissenschaftlicher Fragestellungen genutzt werden.<br/>\n",
    "Aus der Sicht der Sozialwissenschaften handelt es sich bei digitalen Daten meist um sog. *found data*, also Daten, die unabhängig von den Forschungsbemühungen von Wissenschaftler/-innen in außerwissenschaftlichen Kontexten entstanden und entsprechend \"einfach da\" sind. Diese Daten werden üblicherweise nicht unter den kontrollierten Bedingungen einer wissenschaftlichen Erhebung erzeugt (man spricht hier deshalb auch manchmal von *designed data*).<br/>\n",
    "Das bedeutet auch, dass Wissenschaftler:innen üblicherweise keinen Einfluss darauf haben, *welche* Daten genau erhoben werden und häufig die Art und Weise *wie* die Daten genau enstehen werden, nicht hinreichend bekannt ist. Diese Punkte haben einen Einfluss auf die Aussagekraft der mit solchen Daten gewonnen Erkenntnisse.\n",
    "\n",
    "Trotz dieser Einschränkungen, die bei der Interpretation der Ergebnisse berücksichtigt werden müssen, haben digitale Daten Eigenschaften, die sie zur einer wertvollen Informationsquelle für die Sozialwissenschaften machen.\n",
    "+ Da digitale Daten permanent in Echtzeit erhoben werden (always on), liegen Längsschnittdaten vor und die Analyse von Prozessen und Entwicklungen wird in einem nie dagewesenen Ausmaß möglich.\n",
    "\n",
    "\n",
    "\n"
   ]
  },
  {
   "cell_type": "markdown",
   "id": "72f0bbe1",
   "metadata": {},
   "source": [
    "## 2. Das Sammeln digitaler Daten"
   ]
  },
  {
   "cell_type": "markdown",
   "id": "c4f593eb",
   "metadata": {},
   "source": [
    "Das Internet enthält zahlreiche wertvolle Informationen zu sozialen Phänomenen. Diese Informationen liegen in großen Mengen und in den unterschiedlichsten Datenformen vor: Texte, Fotos, Videos, Audiodateien usw. Diese Daten händisch (etwa mit Copy und Paste) zu sammeln, wäre sehr zeitaufwendig und extrem fehleranfällig.\n",
    "Daher werden diese Daten über Skripte (selbstgeschriebene Programmdateien) gesammelt und dann in ein Datenformat (Datenmatrix) umgeformt, mit dem Sozialwissenschaftler:innen gewohnt sind, umzugehen.\n",
    "Grundsätzlich sind hier zwei Vorgehensweisen voneinander zu unterscheiden:\n",
    "+ Daten über sog. APIs aus dem Internet sammeln und speichern\n",
    "+ Daten mittels Webscraping aus dem Internet sammeln und speichern."
   ]
  },
  {
   "cell_type": "markdown",
   "id": "8a1f9eb5",
   "metadata": {},
   "source": [
    "### 2.1 Daten über APIs aus dem Internet sammeln und speichern"
   ]
  },
  {
   "cell_type": "markdown",
   "id": "33f44a97",
   "metadata": {},
   "source": [
    "Eine [API](https://de.wikipedia.org/wiki/Programmierschnittstelle) (Application Programming Interface) ist eine Programmierschnittstelle eines Webservers. APIs dienen dem Austausch von Daten zwischen einem Webserver und einer Anwendung (Maschine-zu-Maschine-Kommunikation).\n",
    "Der Zugriff auf eine API ist vergleichbar mit dem Aufruf einer Webseite. Der Unterschied ist folgender: wenn man eine Webseite aufruft, werden die benötigten Daten zur Darstellung der Webseite vom Webserver an den Webbrowser gesendet. Im Vordergrund steht hier die menschliche Informationsverarbeitung. Webseiten sollen ansprechend aussehen.\n",
    "Über die API gibt der Webserver die Daten demgegenüber so aus, dass diese für die maschinelle Verarbeitung optimiert sind.<br/>\n",
    "Nicht immer sind APIs vorhanden, über die man Daten von Webservern beziehen kann. Aber auch wenn APIs vorhanden sind, ist manchmal Webscraping notig, da nicht alle auf den Webseiten verfügbaren Informationen über APIs abrufbar sind oder nicht in der Form abrufbar sind, die man braucht. Dann bietet sich Webscraping an.\n",
    "Typische Schritte beim Sammeln von Daten über APIs sind:\n",
    "+ Daten sammeln\n",
    "    + Anfordern eines Entwicklerkontos bei Twitter (developer account)\n",
    "    + Einrichten einer Twitter-Anwendung (twitter app)\n",
    "    + Zugangsschlüssel generieren\n",
    "+ Daten speichern\n",
    "+ Daten aufbereiten\n",
    "+ Daten analysieren\n"
   ]
  },
  {
   "cell_type": "markdown",
   "id": "a723b2e7",
   "metadata": {},
   "source": [
    "### 2.2 Daten mittels Webscraping aus dem Internet sammeln und speichern"
   ]
  },
  {
   "cell_type": "markdown",
   "id": "99c679ac",
   "metadata": {},
   "source": [
    "Mit [Webscraping](https://de.wikipedia.org/wiki/Screen_Scraping) wird der Einsatz von Programmen bezeichnet, die die relevanten Daten direkt aus dem HTML-Code der entsprechenden Webseiten sammeln. Alle Informationen/Daten, die über einen Webbrowser abrufbar sind, können prinzipiell auch mit Webscrapern heruntergeladen werden. Webscraping ist also vergleichbar mit dem Surfen im Internet. Nur wird das mit einem Programm und nicht mit einem Webbrowser gemacht.\n",
    "Die Schritte beim Webscaping sind:\n",
    "+ Webseite aufrufen und den HTML-Code der Seite herunterladen (requests-Module)\n",
    "+ gesuchte Informationen aus dem HTML-Code auslesen (parsen; beautiful soup-Modul)\n",
    "+ Informationen in einem Datenformat abspeichern, mit dem die Daten weiterverarbeiten werden können.\n"
   ]
  },
  {
   "cell_type": "code",
   "execution_count": null,
   "id": "1c48838e",
   "metadata": {},
   "outputs": [],
   "source": []
  }
 ],
 "metadata": {
  "kernelspec": {
   "display_name": "Python 3",
   "language": "python",
   "name": "python3"
  },
  "language_info": {
   "codemirror_mode": {
    "name": "ipython",
    "version": 3
   },
   "file_extension": ".py",
   "mimetype": "text/x-python",
   "name": "python",
   "nbconvert_exporter": "python",
   "pygments_lexer": "ipython3",
   "version": "3.8.8"
  }
 },
 "nbformat": 4,
 "nbformat_minor": 5
}
