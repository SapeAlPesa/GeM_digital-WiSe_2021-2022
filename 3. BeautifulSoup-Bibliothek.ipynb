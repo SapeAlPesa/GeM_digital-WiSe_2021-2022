{
 "cells": [
  {
   "cell_type": "markdown",
   "id": "20d42635",
   "metadata": {},
   "source": [
    "# 3. HTML-Code verarbeiten mit der BeautifulSoup-Bibliothek"
   ]
  },
  {
   "cell_type": "markdown",
   "id": "6988d73b",
   "metadata": {},
   "source": [
    "Wie bereits erwähnt, besteht Webscraping im Wesentlichen aus zwei Schritten:\n",
    "1. Webseite aufrufen und den HTML-Code der Seite herunterladen\n",
    "2. gesuchte Informationen aus dem HTML-Code auslesen.\n",
    "\n",
    "Für den zweiten Schritt wird in Python häufig die [*BeautifulSoup*](https://www.crummy.com/software/BeautifulSoup/bs4/doc/)-Bibliothek verwendet. Mit *BeautifulSoup* wird [HTML](https://de.wikipedia.org/wiki/Hypertext_Markup_Language)-Code (der Quellcode der jeweiligen Webseite) in Objekte umgewandelt, die es erlauben, durch diesen Code zu navigieren, in diesem Code nach spezifischen Inhalten zu suchen und diese Inhalte zu extrahieren. Diesen Prozess, bei dem der Quellcode in seine strukturellen Einzelteile zerlegt und analysiert wird, nennt man auch [*Parsen*](https://de.wikipedia.org/wiki/Parser).<br>\n",
    "\n",
    "Die Python-Bibliothek *BeautifulSoup* muss vor der ersten Verwendung installiert werden. Zur Installation unter Windows muss folgender Code in die [Eingabeaufforderung](https://www.youtube.com/watch?v=Bmt3n9RczeU) eingegeben werden (Code für die Eingabeaufforderung beginnt `$`, um zu verdeutlichen, dass es kein Python-Code ist; `$` ist aber kein Bestandteil des Codes): `$ python -m pip install bs4`. Um *BeautifulSoup* zu aktualisieren, muss folgende Zeile in die Eingabeaufforderung eingegeben werden: `$ python -m pip install --upgrade bs4`. Beide Codezeilen setzen voraus, dass das sowohl Python als auch das Paketverwaltungsprogramm *pip* installiert sind. Beides kann in der Eingabeaufforderung mit `$ python` und `$ python -m pip --version` getestet werden."
   ]
  },
  {
   "cell_type": "markdown",
   "id": "e8266428",
   "metadata": {},
   "source": [
    "Da *BeautifulSoup* eine Bibliothek ist und nicht zu den Kernbefehlen von Python gehört, muss sie erst *importiert* werden, bevor man sie verwenden kann:"
   ]
  },
  {
   "cell_type": "code",
   "execution_count": 1,
   "id": "413c45f3",
   "metadata": {},
   "outputs": [],
   "source": [
    "from bs4 import BeautifulSoup"
   ]
  },
  {
   "cell_type": "markdown",
   "id": "34912703",
   "metadata": {},
   "source": [
    "Im vorherigen Notebook haben wir mit Hilfe der *requests*-Bibliothek den HTML-Quellcode der Startseite der Tagesschau aus dem Internet geladen und in die Variable *html* gespeichert. Diese Variable haben wir dann mit Hilfe eines [*magic commands*](https://ipython.readthedocs.io/en/stable/interactive/magics.html) in die programmeigene IPython-Datenbank gespeichert, damit die Variable über verschiedene Notebooks hinweg verfügbar ist.<br>\n",
    "Mit folgendem *magic command* können wir die Variable wieder für dieses Notebook aus der IPython-Datenbank abrufen:"
   ]
  },
  {
   "cell_type": "code",
   "execution_count": 26,
   "id": "8b91262e",
   "metadata": {},
   "outputs": [],
   "source": [
    "%store -r html"
   ]
  },
  {
   "cell_type": "markdown",
   "id": "ae6e5469",
   "metadata": {},
   "source": [
    "Diese Variable wird nun als Input an *BeautifulSoup* übergeben und von *BeautifulSoup* in ein *BeautifulSoup*-Objekt umgewandelt. Dieses *BeautifulSoup*-Objekt wird dann der Variable *bs* zugewiesen:"
   ]
  },
  {
   "cell_type": "code",
   "execution_count": 27,
   "id": "69bdbd15",
   "metadata": {},
   "outputs": [],
   "source": [
    "bs = BeautifulSoup(html)"
   ]
  },
  {
   "cell_type": "code",
   "execution_count": 28,
   "id": "f6cae69e",
   "metadata": {},
   "outputs": [
    {
     "name": "stdout",
     "output_type": "stream",
     "text": [
      "<class 'bs4.BeautifulSoup'>\n"
     ]
    }
   ],
   "source": [
    "print(type(bs)) # Abfrage: Was für einen Datentyp liefert uns BeautifulSoup eigentlich? Was befindet sich in bs? Antwort: ein BeautifulSoup-Objekt! "
   ]
  },
  {
   "cell_type": "markdown",
   "id": "ce1411de",
   "metadata": {},
   "source": [
    "Mit Hilfe des *BeautifulSoup*-Objekts ist es nun möglich, die gesuchten Informationen aus dem HTML-Code (bzw. der HTML-Suppe, deshalb der Name *BeautifulSoup*) zu extrahieren. Um dieses Vorgehen zu verstehen, ist es hilfreich, rudimentäre Kenntnisse von HTML und [CSS](https://de.wikipedia.org/wiki/Cascading_Style_Sheets) zu haben. Während HTML die *Struktur* einer Webseite definiert (HTML ist eine [Auszeichnungssprache](https://de.wikipedia.org/wiki/Auszeichnungssprache)), wird mit CSS die *Darstellung* der Webseite festgelegt (CSS ist eine [Stylesheetsprache](https://de.wikipedia.org/wiki/Stylesheet-Sprache)). Tutorials zu HTML und CSS findet man zahlreich im Netz, wie etwa diese hier:\n",
    "+ [knappes HTML-Tutorial](https://htmldog.com/guides/html/) oder [ausführlicheres HTML-Tutorial](https://www.w3schools.com/html/default.asp)\n",
    "+ [knappes CSS-Tutorial](https://htmldog.com/guides/css/) oder [ausführlicheres CSS-Tutorial](https://www.w3schools.com/css/default.asp)"
   ]
  },
  {
   "cell_type": "markdown",
   "id": "e8a6010d",
   "metadata": {},
   "source": [
    "HTML beschreibt die Struktur einer Webseite mit Hilfe sog. [*HTML-Elemente*](https://en.wikipedia.org/wiki/HTML_element). Diese Elemente bestehen in der Regel aus einem *Start-Tag*, einem *Inhalt* und einem *End-Tag*. Innerhalb des Start-Tags können darüber hinaus [Attribute](https://de.wikipedia.org/wiki/Attribut_(Auszeichnungssprache) über Attributname und Attributwert angegeben werden, die Eigenschaften des HTML-Elements beschreiben. Ein HTML-Element hat somit folgende Komponenten:"
   ]
  },
  {
   "cell_type": "markdown",
   "id": "db8a4068",
   "metadata": {},
   "source": [
    "![HTML-Element](https://wikimedia.org/api/rest_v1/media/math/render/svg/37506127f0730d9b6035530f46c706af4e2319d4)"
   ]
  },
  {
   "cell_type": "markdown",
   "id": "ec9eea83",
   "metadata": {},
   "source": [
    "Beispiele für HTML-Elemente:"
   ]
  },
  {
   "cell_type": "markdown",
   "id": "a23ed0a8",
   "metadata": {},
   "source": [
    "```html\n",
    "<h1>Dies ist eine große Überschrift</h1>\n",
    "<h3>Dies ist eine kleinere Überschrift</h3>\n",
    "<p>Dies ist ein Absatz</p>\n",
    "<a href=\"https://www.wiso.uni-hamburg.de/fachbereich-sozoek.html\">Das ist ein Link</a> \n",
    "```"
   ]
  },
  {
   "cell_type": "markdown",
   "id": "e0c6ad37",
   "metadata": {},
   "source": [
    "<h1>Dies ist eine große Überschrift</h1>\n",
    "<h3>Dies ist eine kleinere Überschrift</h3>\n",
    "<p>Dies ist ein Absatz</p>\n",
    "<a href=\"https://www.wiso.uni-hamburg.de/fachbereich-sozoek.html\">Das ist ein Link</a> "
   ]
  },
  {
   "cell_type": "markdown",
   "id": "61deeb24",
   "metadata": {},
   "source": [
    "<div class=\"alert alert-block alert-info\">\n",
    "<b>Tipp:</b> Auch im Webbrowser kann man sich den HTLM-Quellcode jeder Webseite folgendermaßen anzeigen lassen:\n",
    "<ol>\n",
    "  <li>Rechtsklick in einen freien Bereich der jeweiligen Webseite</li>\n",
    "  <li>\"Seitenquelltext anzeigen\" (oder ähnliches - je nach Browser) aus dem Kontextmenü auswählen.</li>\n",
    "</ol>\n",
    "</div>"
   ]
  },
  {
   "cell_type": "markdown",
   "id": "8e48be21",
   "metadata": {},
   "source": [
    "Mit *BeautifulSoup* kann man nun Inhalte aus dem HTML-Quellcode extrahieren. Hierbei macht man es sich zu nutze, dass HTML-Quellcode üblicherweise eine gewisse Struktur aufweist. Gleichartige Informationen sind meist in gleichen HTML-Elementen zu finden oder sind über entsprechende CSS-Definitionen gleich gestaltet. Aus diesem Grund werden HTML-Dateien auch als [semi-strukturierte Daten](https://de.wikipedia.org/wiki/Semistrukturierte_Daten) bezeichnet. Diese Struktur- bzw. Gestaltungsinformationen kann man beim Webscraping nutzen, indem man die Informationen in genau diesen Elementen extrahiert."
   ]
  },
  {
   "cell_type": "markdown",
   "id": "ee10a82b",
   "metadata": {},
   "source": [
    "<div class=\"alert alert-block alert-info\">\n",
    "<b>Tipp:</b> Wenn man die HTML-Elemente oder CSS-Definitionen im Quellcode identifizieren möchte, welche die Informationen beinhalten, die wir extrahieren möchten, sind die <a href=\"https://www.youtube.com/watch?v=WUArM-7NFIo\">Entwickler-Tools</a> des jeweiligen Browsers hilfreich.\n",
    "</div>"
   ]
  },
  {
   "cell_type": "markdown",
   "id": "26c80aee",
   "metadata": {},
   "source": [
    "Dazu bietet *BeautifulSoup* unter anderem die Funktionen `find()` und `find_all()` an. In den Klammern gibt man z.B. HTML-Tags, Text, Attribute oder CSS-Selektoren an, die man extrahieren möchte. `find()` liefert nur die *erste* Instanz im Quellcode. `find_all()` liefert eine Liste aller Übereinstimmungen.<br>"
   ]
  },
  {
   "cell_type": "markdown",
   "id": "61e39086",
   "metadata": {},
   "source": [
    "### Anwendungsbeispiel"
   ]
  },
  {
   "cell_type": "markdown",
   "id": "04709d51",
   "metadata": {},
   "source": [
    "Im Tagesschau-Beispiel gibt es nur ein h1-Tag, das die Hauptüberschrift der Webseite beeinhaltet. Somit ist die Funktion `find()` ausreichend, um diese Information aus dem Quellcode zu extrahieren. Die Funktion `find()` muss auf die Variable *bs* angewendet werden, die das *BeautifulSoup*-Objekt beinhaltet. Um das h1-Tag zu suchen und zu extrahieren, muss \"h1\" in `find()` als Argument angegeben werden. Das Ergebnis wird in die Variable *h1_tag* gespeichert."
   ]
  },
  {
   "cell_type": "code",
   "execution_count": 29,
   "id": "3211e8be",
   "metadata": {},
   "outputs": [],
   "source": [
    "h1_tag = bs.find(\"h1\")"
   ]
  },
  {
   "cell_type": "markdown",
   "id": "30d53d69",
   "metadata": {},
   "source": [
    "Die Inhalte der Variable *h1_tag* bzw. Teile davon können dann über die Funktion `print()` ausgegeben werden:"
   ]
  },
  {
   "cell_type": "code",
   "execution_count": 30,
   "id": "5f042b2c",
   "metadata": {},
   "outputs": [
    {
     "name": "stdout",
     "output_type": "stream",
     "text": [
      "<h1 class=\"hidden\">Aktuelle Nachrichten - Inland Ausland Wirtschaft Kultur Sport - ARD Tagesschau</h1>\n",
      "<class 'bs4.element.Tag'>\n",
      "----------------------------------------------------------------------------------------------------\n",
      "{'class': ['hidden']}\n",
      "<class 'dict'>\n",
      "----------------------------------------------------------------------------------------------------\n",
      "Aktuelle Nachrichten - Inland Ausland Wirtschaft Kultur Sport - ARD Tagesschau\n",
      "<class 'bs4.element.NavigableString'>\n"
     ]
    }
   ],
   "source": [
    "print(h1_tag) # vollständiges HTML-Element ausgeben\n",
    "print(type(h1_tag)) # Datentyp: BeautifulSoup-Tag-Objekt\n",
    "print(100*'-')\n",
    "print(h1_tag.attrs) # Tag-Attribute ausgeben\n",
    "print(type(h1_tag.attrs)) # Datentyp: Python dictionary\n",
    "print(100*'-')\n",
    "print(h1_tag.string) # Element-Text ausgeben\n",
    "print(type(h1_tag.string)) # Datentyp: BeautifulSoup-NavigableString-Objekt und kein normaler String!"
   ]
  },
  {
   "cell_type": "markdown",
   "id": "54aa5ab1",
   "metadata": {},
   "source": [
    "Benötigt man den Element-Text für die Weiterverarbeitung als normalen String, kann der Text mit der Funktion `get_text()` aus dem HTML-Element extrahiert werden:"
   ]
  },
  {
   "cell_type": "code",
   "execution_count": 31,
   "id": "0b2de3b4",
   "metadata": {},
   "outputs": [
    {
     "name": "stdout",
     "output_type": "stream",
     "text": [
      "Aktuelle Nachrichten - Inland Ausland Wirtschaft Kultur Sport - ARD Tagesschau\n",
      "<class 'str'>\n"
     ]
    }
   ],
   "source": [
    "string_h1 = h1_tag.get_text()\n",
    "print(string_h1)\n",
    "print(type(string_h1)) # Datentyp: string"
   ]
  },
  {
   "cell_type": "markdown",
   "id": "1264e46a",
   "metadata": {},
   "source": [
    "Möchte man alle HTML-Tags der gleichen Art extrahieren, muss die Funktion `find_all()` verwendet werden. Im Folgenden werden alle h2-Tags extrahiert."
   ]
  },
  {
   "cell_type": "code",
   "execution_count": 32,
   "id": "0cf05232",
   "metadata": {},
   "outputs": [],
   "source": [
    "h2_tag = bs.find_all(\"h2\")"
   ]
  },
  {
   "cell_type": "markdown",
   "id": "6b56dd05",
   "metadata": {},
   "source": [
    "Da es nun mehrere Inhalte gibt, legt *BeautifulSoup* eine [Liste](https://www.w3schools.com/python/python_lists.asp) an. Eine Liste ist eine Art Datencontainer der mehrere Elemente in einer festgelegten Reihenfolge beinhaltet."
   ]
  },
  {
   "cell_type": "code",
   "execution_count": 33,
   "id": "bdea995d",
   "metadata": {},
   "outputs": [
    {
     "name": "stdout",
     "output_type": "stream",
     "text": [
      "[<h2>Corona-Pandemie</h2>, <h2>Bundesliga</h2>, <h2>Sendungen</h2>, <h2>INLAND</h2>, <h2>Bundestagswahl</h2>, <h2>Ausland</h2>, <h2>Wirtschaft</h2>, <h2>Marktbericht</h2>, <h2>Börsenkurse</h2>, <h2>Weltmärkte</h2>, <h2>Investigativ</h2>, <h2>Sport</h2>, <h2>Das Wetter</h2>, <h2 class=\"teaser-xs__headline\">Regenradar</h2>, <h2 class=\"teaser-xs__headline\">Mittlere <span class=\"hyphenate\">Sonnenscheindauer</span></h2>, <h2 class=\"teaser-xs__headline\"><span class=\"hyphenate\">Wetterstationen</span></h2>, <h2>Blickpunkte</h2>, <h2>Top Ten</h2>, <h2>Podcasts</h2>]\n"
     ]
    }
   ],
   "source": [
    "print(h2_tag)"
   ]
  },
  {
   "cell_type": "markdown",
   "id": "d0675249",
   "metadata": {},
   "source": [
    "Listen kann man mit einer [for-Schleife](https://www.w3schools.com/python/python_for_loops.asp) elementweise bearbeiten. Hier wird jedes Element in *h2_tag* nacheinander der Indexvariable *h2* zugewiesen und dann der entsprechende Inhalt ausgegeben:"
   ]
  },
  {
   "cell_type": "code",
   "execution_count": 34,
   "id": "50a06a27",
   "metadata": {},
   "outputs": [
    {
     "name": "stdout",
     "output_type": "stream",
     "text": [
      "Corona-Pandemie\n",
      "----------------------------------------------------------------------------------------------------\n",
      "Bundesliga\n",
      "----------------------------------------------------------------------------------------------------\n",
      "Sendungen\n",
      "----------------------------------------------------------------------------------------------------\n",
      "INLAND\n",
      "----------------------------------------------------------------------------------------------------\n",
      "Bundestagswahl\n",
      "----------------------------------------------------------------------------------------------------\n",
      "Ausland\n",
      "----------------------------------------------------------------------------------------------------\n",
      "Wirtschaft\n",
      "----------------------------------------------------------------------------------------------------\n",
      "Marktbericht\n",
      "----------------------------------------------------------------------------------------------------\n",
      "Börsenkurse\n",
      "----------------------------------------------------------------------------------------------------\n",
      "Weltmärkte\n",
      "----------------------------------------------------------------------------------------------------\n",
      "Investigativ\n",
      "----------------------------------------------------------------------------------------------------\n",
      "Sport\n",
      "----------------------------------------------------------------------------------------------------\n",
      "Das Wetter\n",
      "----------------------------------------------------------------------------------------------------\n",
      "Regenradar\n",
      "----------------------------------------------------------------------------------------------------\n",
      "None\n",
      "----------------------------------------------------------------------------------------------------\n",
      "Wetterstationen\n",
      "----------------------------------------------------------------------------------------------------\n",
      "Blickpunkte\n",
      "----------------------------------------------------------------------------------------------------\n",
      "Top Ten\n",
      "----------------------------------------------------------------------------------------------------\n",
      "Podcasts\n",
      "----------------------------------------------------------------------------------------------------\n"
     ]
    }
   ],
   "source": [
    "for h2 in h2_tag:\n",
    "    print(h2.string)\n",
    "    print(100*'-')"
   ]
  },
  {
   "cell_type": "markdown",
   "id": "c7193d00",
   "metadata": {},
   "source": [
    "Möchte man alle Links auf der Startseite der Tagesschau extrahieren geht das folgendermaßen:"
   ]
  },
  {
   "cell_type": "code",
   "execution_count": 35,
   "id": "5be3f7ea",
   "metadata": {},
   "outputs": [],
   "source": [
    "links = bs.find_all('a', class_=\"teaser__link\")"
   ]
  },
  {
   "cell_type": "code",
   "execution_count": 41,
   "id": "d0ee895f",
   "metadata": {},
   "outputs": [
    {
     "name": "stdout",
     "output_type": "stream",
     "text": [
      "https://www.tagesschau.de/inland/btw21/triell-kanzlerkandidaten-105.html\n",
      "https://www.tagesschau.de/inland/btw21/triell-reaktionen-101.html\n",
      "https://www.tagesschau.de/inland/btw21/triell-blitzumfrage-101.html\n",
      "https://www.tagesschau.de/inland/btw21/triell-kanzlerkandidaten-kommentar-101.html\n",
      "https://www.tagesschau.de/inland/corona-impfaktionswoche-101.html\n",
      "https://www.tagesschau.de/newsticker/liveblog-coronavirus-montag-225.html\n",
      "https://www.tagesschau.de/wirtschaft/impfstoff-booster-corona-101.html\n",
      "https://www.tagesschau.de/multimedia/livestreams/livestream-3-107.html\n",
      "https://www.tagesschau.de/ausland/iaea-iran-111.html\n",
      "https://www.tagesschau.de/ausland/asien/nordkorea-raketentest-191.html\n",
      "https://www.tagesschau.de/ausland/afrika/amnesty-niger-101.html\n",
      "https://www.tagesschau.de/ausland/asien/mueller-afghanistan-humanitaere-krise-101.html\n",
      "https://www.mdr.de/nachrichten/deutschland/politik/umwelthilfe-klimaklage-gegen-sachsen-und-sachsen-anhalt-100.html\n",
      "https://www.tagesschau.de/ausland/europa/norwegen-wahl-103.html\n",
      "https://www.tagesschau.de/ausland/amerika/getoetete-umweltaktivisten-101.html\n",
      "https://www.tagesschau.de/ausland/europa/spanien-waldbrand-109.html\n",
      "https://www.tagesschau.de/sport/sportschau/bundesliga-frankfurt-107.html\n",
      "https://www.tagesschau.de/sport/sportschau/us-open-medwedew-djokovic-101.html\n",
      "https://www.tagesschau.de/multimedia/sendung/tt-8517.html\n",
      "https://www.tagesschau.de/inland/impfungen-merkel-101.html\n",
      "https://www.tagesschau.de/inland/btw21/steuerkonzepte-101.html\n",
      "https://www.tagesschau.de/ausland/europa/papst-in-ungarn-103.html\n",
      "https://www.tagesschau.de/wirtschaft/unternehmen/holz-auktion-muensterland-101.html\n",
      "https://www.tagesschau.de/wirtschaft/finanzen/marktberichte/dax-apple-dow-nasdaq-tapering-aengste-101.html\n",
      "https://www.tagesschau.de/faktenfinder/9-11-verschwoerungslegenden-101.html\n",
      "https://www.tagesschau.de/sport/sportschau/formel-1-monza-ricciardo-101.html\n",
      "https://www.tagesschau.de/sport/sportschau/raducanu-us-open-101.html\n",
      "//wetter.tagesschau.de/deutschland/\n"
     ]
    }
   ],
   "source": [
    "for l in links:\n",
    "    print(l['href'])"
   ]
  },
  {
   "cell_type": "code",
   "execution_count": null,
   "id": "15d65af9",
   "metadata": {},
   "outputs": [],
   "source": []
  }
 ],
 "metadata": {
  "kernelspec": {
   "display_name": "Python 3",
   "language": "python",
   "name": "python3"
  },
  "language_info": {
   "codemirror_mode": {
    "name": "ipython",
    "version": 3
   },
   "file_extension": ".py",
   "mimetype": "text/x-python",
   "name": "python",
   "nbconvert_exporter": "python",
   "pygments_lexer": "ipython3",
   "version": "3.8.8"
  }
 },
 "nbformat": 4,
 "nbformat_minor": 5
}
