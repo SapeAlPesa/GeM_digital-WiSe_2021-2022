{
 "cells": [
  {
   "cell_type": "markdown",
   "id": "fd559ef3",
   "metadata": {},
   "source": [
    "Ist Web Scraping erlaubt?<br>\n",
    "Formal-rechtlicher Rahmen<br>\n",
    "Forschungsethik"
   ]
  },
  {
   "cell_type": "markdown",
   "id": "3d62d89c",
   "metadata": {},
   "source": [
    "## Formal-rechtlicher Rahmen"
   ]
  },
  {
   "cell_type": "markdown",
   "id": "2553c0cd",
   "metadata": {},
   "source": [
    "Web Scraping tangiert das Wettbewerbs-, das Urheber-, das Zivil- und ggf. das Datenschutzrecht. Besonders relevant ist das Urheberrecht. Im Gegensatz zu Webscraping für kommerzielle Zwecke, ist Webscraping für die unabhängige, nichtkommerzielle Forschung unter bestimmten Voraussetzung erlaubt und bedarf keiner Zustimmung der Webseitenbetreiber:innen. Wichtig ist hier die sog. Schrankenregelung des § 60d UrhG. Die durch die Schranken definierten Nutzungshandlungen sind erlaubt, ohne dass die Urheber:innnen um Zustimmung gefragt werden müssten.\n",
    "Die Voraussetzungen, die Webscraping zu wissenschaftlichen Zwecken erlauben sind folgende:\n",
    "+ Auszuwertende Informationen müssen allgemein zugänglich sein\n",
    "+ Es dürfen keine technischen Schutzmaßnahmen überwunden/ignoriert werden, die Web Scraping verhindern sollen (dazu zählen [Captchas](https://de.wikipedia.org/wiki/Captcha), aber auch die Einträge in [robots.txt](https://de.wikipedia.org/wiki/Robots_Exclusion_Standard))\n"
   ]
  },
  {
   "cell_type": "markdown",
   "id": "431d4440",
   "metadata": {},
   "source": [
    "robots.txt"
   ]
  },
  {
   "cell_type": "markdown",
   "id": "79448575",
   "metadata": {},
   "source": [
    "Freundliches Scrapen\n",
    "Zugriffsraten begrenzen, um menschliches Nutzerverhalten zu simulieren"
   ]
  },
  {
   "cell_type": "code",
   "execution_count": null,
   "id": "3373cf2c",
   "metadata": {},
   "outputs": [],
   "source": []
  }
 ],
 "metadata": {
  "kernelspec": {
   "display_name": "Python 3",
   "language": "python",
   "name": "python3"
  },
  "language_info": {
   "codemirror_mode": {
    "name": "ipython",
    "version": 3
   },
   "file_extension": ".py",
   "mimetype": "text/x-python",
   "name": "python",
   "nbconvert_exporter": "python",
   "pygments_lexer": "ipython3",
   "version": "3.8.8"
  }
 },
 "nbformat": 4,
 "nbformat_minor": 5
}
