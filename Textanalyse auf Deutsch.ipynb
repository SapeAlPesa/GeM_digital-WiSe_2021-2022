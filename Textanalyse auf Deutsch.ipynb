{
 "cells": [
  {
   "cell_type": "markdown",
   "id": "ae40ff82",
   "metadata": {},
   "source": [
    "Der *Hanover Tagger* bietet Lemmatisierer und Wortarterkenner (POS Tagger) für das Deutsche. *Hanover Tagger* (HanTa) herunterladen und installieren:"
   ]
  },
  {
   "cell_type": "code",
   "execution_count": 64,
   "id": "8f665af0",
   "metadata": {},
   "outputs": [
    {
     "name": "stdout",
     "output_type": "stream",
     "text": [
      "Requirement already satisfied: HanTa in c:\\programdata\\anaconda3\\lib\\site-packages (0.2.0)\n"
     ]
    }
   ],
   "source": [
    "!pip install HanTa"
   ]
  },
  {
   "cell_type": "markdown",
   "id": "ae72d666",
   "metadata": {},
   "source": [
    "Modul einbinden und ein vortrainiertes Modell laden:"
   ]
  },
  {
   "cell_type": "code",
   "execution_count": 65,
   "id": "807cb1f8",
   "metadata": {},
   "outputs": [],
   "source": [
    "from HanTa import HanoverTagger as ht\n",
    "tagger = ht.HanoverTagger('morphmodel_ger.pgz')"
   ]
  },
  {
   "cell_type": "code",
   "execution_count": 66,
   "id": "8871a996",
   "metadata": {},
   "outputs": [
    {
     "name": "stdout",
     "output_type": "stream",
     "text": [
      "('Fachmarkt', 'NN')\n"
     ]
    }
   ],
   "source": [
    "print(tagger.analyze('Fachmärkte'))"
   ]
  },
  {
   "cell_type": "code",
   "execution_count": 67,
   "id": "e957c08e",
   "metadata": {},
   "outputs": [],
   "source": [
    "import spacy\n",
    "import nltk\n",
    "from pprint import pprint"
   ]
  },
  {
   "cell_type": "code",
   "execution_count": 68,
   "id": "45b1f361",
   "metadata": {},
   "outputs": [],
   "source": [
    "nlp = spacy.load(\"de_core_news_sm\")"
   ]
  },
  {
   "cell_type": "code",
   "execution_count": 69,
   "id": "89ce6fc6",
   "metadata": {},
   "outputs": [],
   "source": [
    "file = 'K:\\\\GeM_digital\\\\WiSe_2021-2022\\\\Daten\\\\stellenanzeige.txt'"
   ]
  },
  {
   "cell_type": "code",
   "execution_count": 70,
   "id": "47872ff5",
   "metadata": {},
   "outputs": [
    {
     "name": "stdout",
     "output_type": "stream",
     "text": [
      "Die Universität Hamburg Marketing GmbH (UHHMG), eine hundertprozentige Tochtergesellschaft der Universität Hamburg (UHH), ist eine Full Service- und Dienstleistungsagentur. Mit rund 30 Beschäftigten zeichnet sie sich als Schnittstelle zwischen Universität, Wirtschaft, Öffentlichkeit und Politik aus. Als Spezialistin für Recruiting betreibt die UHHMG unter der Marke „stellenwerk“ verschiedene Recruiting-Formate zur studentischen Personalbeschaffung wie Online-Stellenbörsen, die deutschlandweit in Zusammenarbeit mit 19 Hochschulpartnern betrieben werden, Online-Magazine und virtuelle Jobmessen und Events. Auf den stellenwerk-Jobportalen finden Studierende einen Nebenjob zur Finanzierung des Studiums, Praktika oder Abschlussarbeiten, und für Absolvent*innen werden Einstiegspositionen angeboten. Für die Bespielung und Pflege der Jobboards des stellenwerks und der Plakatwechselrahmen (DIN A0 und DIN A1) auf dem Hauptcampus der Universität Hamburg und seinen außerhalb gelegenen Nebenstellen suchen wir zum nächstmöglichen Zeitpunkt eine studentische Hilfskraft.\n"
     ]
    }
   ],
   "source": [
    "with open(file, mode = 'r', encoding = 'utf-8') as f:\n",
    "    text = f.read()\n",
    "print(text)"
   ]
  },
  {
   "cell_type": "code",
   "execution_count": 71,
   "id": "33d2a736",
   "metadata": {},
   "outputs": [],
   "source": [
    "doc = nlp(text)"
   ]
  },
  {
   "cell_type": "markdown",
   "id": "93db4bef",
   "metadata": {},
   "source": [
    "## Sentence splitting"
   ]
  },
  {
   "cell_type": "code",
   "execution_count": 72,
   "id": "1a0f2ba3",
   "metadata": {},
   "outputs": [],
   "source": [
    "sentences = [sentence.text for sentence in doc.sents]"
   ]
  },
  {
   "cell_type": "code",
   "execution_count": 73,
   "id": "0e3bb776",
   "metadata": {},
   "outputs": [
    {
     "name": "stdout",
     "output_type": "stream",
     "text": [
      "Die Universität Hamburg Marketing GmbH (UHHMG), eine hundertprozentige Tochtergesellschaft der Universität Hamburg (UHH), ist eine Full Service- und Dienstleistungsagentur.\n",
      "\n",
      "Mit rund 30 Beschäftigten zeichnet sie sich als Schnittstelle zwischen Universität, Wirtschaft, Öffentlichkeit und Politik aus.\n",
      "\n",
      "Als Spezialistin für Recruiting betreibt die UHHMG unter der Marke „stellenwerk“ verschiedene Recruiting-Formate zur studentischen Personalbeschaffung wie Online-Stellenbörsen, die deutschlandweit in Zusammenarbeit mit 19 Hochschulpartnern betrieben werden, Online-Magazine und virtuelle Jobmessen und Events.\n",
      "\n",
      "Auf den stellenwerk-Jobportalen finden Studierende einen Nebenjob zur Finanzierung des Studiums, Praktika oder Abschlussarbeiten, und für Absolvent*innen werden Einstiegspositionen angeboten.\n",
      "\n",
      "Für die Bespielung und Pflege der Jobboards des stellenwerks und der Plakatwechselrahmen (DIN A0 und DIN A1) auf dem Hauptcampus der Universität Hamburg und seinen außerhalb gelegenen Nebenstellen suchen wir zum nächstmöglichen Zeitpunkt eine studentische Hilfskraft.\n",
      "\n"
     ]
    }
   ],
   "source": [
    "for s in sentences:\n",
    "    print(s)\n",
    "    print()"
   ]
  },
  {
   "cell_type": "markdown",
   "id": "7e0d327c",
   "metadata": {},
   "source": [
    "## Tokenisierung"
   ]
  },
  {
   "cell_type": "code",
   "execution_count": 74,
   "id": "bed327ce",
   "metadata": {},
   "outputs": [],
   "source": [
    "words = [token.text for token in doc]"
   ]
  },
  {
   "cell_type": "code",
   "execution_count": 75,
   "id": "5c4d4238",
   "metadata": {},
   "outputs": [
    {
     "name": "stdout",
     "output_type": "stream",
     "text": [
      "['Die', 'Universität', 'Hamburg', 'Marketing', 'GmbH', '(', 'UHHMG', ')', ',', 'eine', 'hundertprozentige', 'Tochtergesellschaft', 'der', 'Universität', 'Hamburg', '(', 'UHH', ')', ',', 'ist', 'eine', 'Full', 'Service-', 'und', 'Dienstleistungsagentur', '.', 'Mit', 'rund', '30', 'Beschäftigten', 'zeichnet', 'sie', 'sich', 'als', 'Schnittstelle', 'zwischen', 'Universität', ',', 'Wirtschaft', ',', 'Öffentlichkeit', 'und', 'Politik', 'aus', '.', 'Als', 'Spezialistin', 'für', 'Recruiting', 'betreibt', 'die', 'UHHMG', 'unter', 'der', 'Marke', '„', 'stellenwerk', '“', 'verschiedene', 'Recruiting-Formate', 'zur', 'studentischen', 'Personalbeschaffung', 'wie', 'Online-Stellenbörsen', ',', 'die', 'deutschlandweit', 'in', 'Zusammenarbeit', 'mit', '19', 'Hochschulpartnern', 'betrieben', 'werden', ',', 'Online-Magazine', 'und', 'virtuelle', 'Jobmessen', 'und', 'Events', '.', 'Auf', 'den', 'stellenwerk-Jobportalen', 'finden', 'Studierende', 'einen', 'Nebenjob', 'zur', 'Finanzierung', 'des', 'Studiums', ',', 'Praktika', 'oder', 'Abschlussarbeiten', ',', 'und', 'für', 'Absolvent*innen', 'werden', 'Einstiegspositionen', 'angeboten', '.', 'Für', 'die', 'Bespielung', 'und', 'Pflege', 'der', 'Jobboards', 'des', 'stellenwerks', 'und', 'der', 'Plakatwechselrahmen', '(', 'DIN', 'A0', 'und', 'DIN', 'A1', ')', 'auf', 'dem', 'Hauptcampus', 'der', 'Universität', 'Hamburg', 'und', 'seinen', 'außerhalb', 'gelegenen', 'Nebenstellen', 'suchen', 'wir', 'zum', 'nächstmöglichen', 'Zeitpunkt', 'eine', 'studentische', 'Hilfskraft', '.']\n"
     ]
    }
   ],
   "source": [
    "print(words)"
   ]
  },
  {
   "cell_type": "code",
   "execution_count": 76,
   "id": "d9a1e7a1",
   "metadata": {},
   "outputs": [],
   "source": [
    "tokens = [[token.text for token in sentence] for sentence in doc.sents]"
   ]
  },
  {
   "cell_type": "code",
   "execution_count": 77,
   "id": "fabf9704",
   "metadata": {},
   "outputs": [
    {
     "name": "stdout",
     "output_type": "stream",
     "text": [
      "[['Die', 'Universität', 'Hamburg', 'Marketing', 'GmbH', '(', 'UHHMG', ')', ',', 'eine', 'hundertprozentige', 'Tochtergesellschaft', 'der', 'Universität', 'Hamburg', '(', 'UHH', ')', ',', 'ist', 'eine', 'Full', 'Service-', 'und', 'Dienstleistungsagentur', '.'], ['Mit', 'rund', '30', 'Beschäftigten', 'zeichnet', 'sie', 'sich', 'als', 'Schnittstelle', 'zwischen', 'Universität', ',', 'Wirtschaft', ',', 'Öffentlichkeit', 'und', 'Politik', 'aus', '.'], ['Als', 'Spezialistin', 'für', 'Recruiting', 'betreibt', 'die', 'UHHMG', 'unter', 'der', 'Marke', '„', 'stellenwerk', '“', 'verschiedene', 'Recruiting-Formate', 'zur', 'studentischen', 'Personalbeschaffung', 'wie', 'Online-Stellenbörsen', ',', 'die', 'deutschlandweit', 'in', 'Zusammenarbeit', 'mit', '19', 'Hochschulpartnern', 'betrieben', 'werden', ',', 'Online-Magazine', 'und', 'virtuelle', 'Jobmessen', 'und', 'Events', '.'], ['Auf', 'den', 'stellenwerk-Jobportalen', 'finden', 'Studierende', 'einen', 'Nebenjob', 'zur', 'Finanzierung', 'des', 'Studiums', ',', 'Praktika', 'oder', 'Abschlussarbeiten', ',', 'und', 'für', 'Absolvent*innen', 'werden', 'Einstiegspositionen', 'angeboten', '.'], ['Für', 'die', 'Bespielung', 'und', 'Pflege', 'der', 'Jobboards', 'des', 'stellenwerks', 'und', 'der', 'Plakatwechselrahmen', '(', 'DIN', 'A0', 'und', 'DIN', 'A1', ')', 'auf', 'dem', 'Hauptcampus', 'der', 'Universität', 'Hamburg', 'und', 'seinen', 'außerhalb', 'gelegenen', 'Nebenstellen', 'suchen', 'wir', 'zum', 'nächstmöglichen', 'Zeitpunkt', 'eine', 'studentische', 'Hilfskraft', '.']]\n"
     ]
    }
   ],
   "source": [
    "print(tokens)"
   ]
  },
  {
   "cell_type": "markdown",
   "id": "ad7a301a",
   "metadata": {},
   "source": [
    "## Stemming"
   ]
  },
  {
   "cell_type": "code",
   "execution_count": 78,
   "id": "5d95d33e",
   "metadata": {},
   "outputs": [],
   "source": [
    "from nltk import SnowballStemmer\n",
    "stemmer = SnowballStemmer('german')"
   ]
  },
  {
   "cell_type": "code",
   "execution_count": 79,
   "id": "6ec2ef11",
   "metadata": {},
   "outputs": [],
   "source": [
    "stems = [stemmer.stem(word) for word in words]"
   ]
  },
  {
   "cell_type": "code",
   "execution_count": 80,
   "id": "073945cb",
   "metadata": {},
   "outputs": [
    {
     "name": "stdout",
     "output_type": "stream",
     "text": [
      "['die', 'universitat', 'hamburg', 'marketing', 'gmbh', '(', 'uhhmg', ')', ',', 'ein', 'hundertprozent', 'tochtergesellschaft', 'der', 'universitat', 'hamburg', '(', 'uhh', ')', ',', 'ist', 'ein', 'full', 'service-', 'und', 'dienstleistungsagentur', '.', 'mit', 'rund', '30', 'beschaftigt', 'zeichnet', 'sie', 'sich', 'als', 'schnittstell', 'zwisch', 'universitat', ',', 'wirtschaft', ',', 'offent', 'und', 'polit', 'aus', '.', 'als', 'spezialistin', 'fur', 'recruiting', 'betreibt', 'die', 'uhhmg', 'unt', 'der', 'mark', '„', 'stellenwerk', '“', 'verschied', 'recruiting-format', 'zur', 'student', 'personalbeschaff', 'wie', 'online-stellenbors', ',', 'die', 'deutschlandweit', 'in', 'zusammenarbeit', 'mit', '19', 'hochschulpartn', 'betrieb', 'werd', ',', 'online-magazin', 'und', 'virtuell', 'jobmess', 'und', 'event', '.', 'auf', 'den', 'stellenwerk-jobportal', 'find', 'studier', 'ein', 'nebenjob', 'zur', 'finanzier', 'des', 'studium', ',', 'praktika', 'oder', 'abschlussarbeit', ',', 'und', 'fur', 'absolvent*inn', 'werd', 'einstiegsposition', 'angebot', '.', 'fur', 'die', 'bespiel', 'und', 'pfleg', 'der', 'jobboard', 'des', 'stellenwerk', 'und', 'der', 'plakatwechselrahm', '(', 'din', 'a0', 'und', 'din', 'a1', ')', 'auf', 'dem', 'hauptcampus', 'der', 'universitat', 'hamburg', 'und', 'sein', 'ausserhalb', 'geleg', 'nebenstell', 'such', 'wir', 'zum', 'nachstmog', 'zeitpunkt', 'ein', 'student', 'hilfskraft', '.']\n"
     ]
    }
   ],
   "source": [
    "print(stems)"
   ]
  },
  {
   "cell_type": "markdown",
   "id": "a9ca7d8e",
   "metadata": {},
   "source": [
    "## Lemmatisierung"
   ]
  },
  {
   "cell_type": "code",
   "execution_count": 81,
   "id": "ee53d7aa",
   "metadata": {},
   "outputs": [],
   "source": [
    "from nltk.stem import WordNetLemmatizer"
   ]
  },
  {
   "cell_type": "code",
   "execution_count": 82,
   "id": "900d3b76",
   "metadata": {},
   "outputs": [],
   "source": [
    "lemmatizer = WordNetLemmatizer()"
   ]
  },
  {
   "cell_type": "code",
   "execution_count": 83,
   "id": "0d8d82ca",
   "metadata": {},
   "outputs": [],
   "source": [
    "lemmatized_words = [lemmatizer.lemmatize(word) for word in words]"
   ]
  },
  {
   "cell_type": "code",
   "execution_count": 84,
   "id": "405979f8",
   "metadata": {},
   "outputs": [
    {
     "name": "stdout",
     "output_type": "stream",
     "text": [
      "['Die', 'Universität', 'Hamburg', 'Marketing', 'GmbH', '(', 'UHHMG', ')', ',', 'eine', 'hundertprozentige', 'Tochtergesellschaft', 'der', 'Universität', 'Hamburg', '(', 'UHH', ')', ',', 'ist', 'eine', 'Full', 'Service-', 'und', 'Dienstleistungsagentur', '.', 'Mit', 'rund', '30', 'Beschäftigten', 'zeichnet', 'sie', 'sich', 'al', 'Schnittstelle', 'zwischen', 'Universität', ',', 'Wirtschaft', ',', 'Öffentlichkeit', 'und', 'Politik', 'au', '.', 'Als', 'Spezialistin', 'für', 'Recruiting', 'betreibt', 'die', 'UHHMG', 'unter', 'der', 'Marke', '„', 'stellenwerk', '“', 'verschiedene', 'Recruiting-Formate', 'zur', 'studentischen', 'Personalbeschaffung', 'wie', 'Online-Stellenbörsen', ',', 'die', 'deutschlandweit', 'in', 'Zusammenarbeit', 'mit', '19', 'Hochschulpartnern', 'betrieben', 'werden', ',', 'Online-Magazine', 'und', 'virtuelle', 'Jobmessen', 'und', 'Events', '.', 'Auf', 'den', 'stellenwerk-Jobportalen', 'finden', 'Studierende', 'einen', 'Nebenjob', 'zur', 'Finanzierung', 'de', 'Studiums', ',', 'Praktika', 'oder', 'Abschlussarbeiten', ',', 'und', 'für', 'Absolvent*innen', 'werden', 'Einstiegspositionen', 'angeboten', '.', 'Für', 'die', 'Bespielung', 'und', 'Pflege', 'der', 'Jobboards', 'de', 'stellenwerks', 'und', 'der', 'Plakatwechselrahmen', '(', 'DIN', 'A0', 'und', 'DIN', 'A1', ')', 'auf', 'dem', 'Hauptcampus', 'der', 'Universität', 'Hamburg', 'und', 'seinen', 'außerhalb', 'gelegenen', 'Nebenstellen', 'suchen', 'wir', 'zum', 'nächstmöglichen', 'Zeitpunkt', 'eine', 'studentische', 'Hilfskraft', '.']\n"
     ]
    }
   ],
   "source": [
    "print(lemmatized_words)"
   ]
  },
  {
   "cell_type": "code",
   "execution_count": 85,
   "id": "6dcd10d0",
   "metadata": {},
   "outputs": [],
   "source": [
    "lemmas = [[token.lemma_ for token in sentence] for sentence in doc.sents]"
   ]
  },
  {
   "cell_type": "code",
   "execution_count": 86,
   "id": "57a3fe06",
   "metadata": {},
   "outputs": [
    {
     "name": "stdout",
     "output_type": "stream",
     "text": [
      "[['der', 'Universität', 'Hamburg', 'Marketing', 'GmbH', '(', 'UHHMG', ')', ',', 'einen', 'hundertprozentige', 'Tochtergesellschaft', 'der', 'Universität', 'Hamburg', '(', 'UHH', ')', ',', 'sein', 'einen', 'Full', 'Service-', 'und', 'Dienstleistungsagentur', '.'], ['Mit', 'rund', '30', 'Beschäftigte', 'zeichnen', 'ich', 'sich', 'als', 'Schnittstelle', 'zwischen', 'Universität', ',', 'Wirtschaft', ',', 'Öffentlichkeit', 'und', 'Politik', 'aus', '.'], ['als', 'Spezialistin', 'für', 'Recruiting', 'betreiben', 'der', 'UHHMG', 'unter', 'der', 'Mark', '„', 'stellenwerk', '“', 'verschieden', 'Recruiting-Formate', 'zur', 'studentisch', 'Personalbeschaffung', 'wie', 'Online-Stellenbörsen', ',', 'der', 'deutschlandweit', 'in', 'Zusammenarbeit', 'mit', '19', 'Hochschulpartnern', 'betrieben', 'werden', ',', 'Online-Magazine', 'und', 'virtuelle', 'Jobmessen', 'und', 'Events', '.'], ['Auf', 'der', 'stellenwerk-Jobportalen', 'finden', 'Studierende', 'ein', 'Nebenjob', 'zur', 'Finanzierung', 'der', 'Studium', ',', 'Praktikum', 'oder', 'Abschlussarbeiten', ',', 'und', 'für', 'Absolvent*innen', 'werden', 'Einstiegspositionen', 'angeboten', '.'], ['Für', 'der', 'Bespielung', 'und', 'Pflege', 'der', 'Jobboards', 'der', 'stellenwerks', 'und', 'der', 'Plakatwechselrahmen', '(', 'DIN', 'A0', 'und', 'DIN', 'A1', ')', 'auf', 'der', 'Hauptcampus', 'der', 'Universität', 'Hamburg', 'und', 'seinen', 'außerhalb', 'gelegen', 'Nebenstelle', 'suchen', 'ich', 'zum', 'nächstmöglichen', 'Zeitpunkt', 'einen', 'studentische', 'Hilfskraft', '.']]\n"
     ]
    }
   ],
   "source": [
    "print(lemmas)"
   ]
  },
  {
   "cell_type": "markdown",
   "id": "4d1edf4c",
   "metadata": {},
   "source": [
    "## Lemmatisierung und POS-Tagging mit *Hanover Tagger* "
   ]
  },
  {
   "cell_type": "code",
   "execution_count": 87,
   "id": "382eb9bd",
   "metadata": {
    "scrolled": true
   },
   "outputs": [
    {
     "name": "stdout",
     "output_type": "stream",
     "text": [
      "[('Die', 'die', 'ART'),\n",
      " ('Universität', 'Universität', 'NN'),\n",
      " ('Hamburg', 'Hamburg', 'NE'),\n",
      " ('Marketing', 'Marketing', 'NN'),\n",
      " ('GmbH', 'Gmbh', 'NN'),\n",
      " ('(', '--', '$('),\n",
      " ('UHHMG', 'Uhhmg', 'NE'),\n",
      " (')', '--', '$('),\n",
      " (',', '--', '$,'),\n",
      " ('eine', 'eine', 'ART'),\n",
      " ('hundertprozentige', 'hundertprozentig', 'ADJA'),\n",
      " ('Tochtergesellschaft', 'Tochtergesellschaft', 'NN'),\n",
      " ('der', 'der', 'ART'),\n",
      " ('Universität', 'Universität', 'NN'),\n",
      " ('Hamburg', 'Hamburg', 'NE'),\n",
      " ('(', '--', '$('),\n",
      " ('UHH', 'Uhh', 'NE'),\n",
      " (')', '--', '$('),\n",
      " (',', '--', '$,'),\n",
      " ('ist', 'sein', 'VAFIN'),\n",
      " ('eine', 'eine', 'ART'),\n",
      " ('Full', 'Full', 'NE'),\n",
      " ('Service-', 'service-', 'TRUNC'),\n",
      " ('und', 'und', 'KON'),\n",
      " ('Dienstleistungsagentur', 'Dienstleistungsagentur', 'NN'),\n",
      " ('.', '--', '$.')]\n",
      "[('Mit', 'mit', 'APPR'),\n",
      " ('rund', 'rund', 'ADV'),\n",
      " ('30', '30', 'CARD'),\n",
      " ('Beschäftigten', 'Beschäftigt', 'NN'),\n",
      " ('zeichnet', 'zeichnen', 'VVFIN'),\n",
      " ('sie', 'sie', 'PPER'),\n",
      " ('sich', 'sich', 'PRF'),\n",
      " ('als', 'als', 'APPR'),\n",
      " ('Schnittstelle', 'Schnittstelle', 'NN'),\n",
      " ('zwischen', 'zwischen', 'APPR'),\n",
      " ('Universität', 'Universität', 'NN'),\n",
      " (',', '--', '$,'),\n",
      " ('Wirtschaft', 'Wirtschaft', 'NN'),\n",
      " (',', '--', '$,'),\n",
      " ('Öffentlichkeit', 'Öffentlichkeit', 'NN'),\n",
      " ('und', 'und', 'KON'),\n",
      " ('Politik', 'Politik', 'NN'),\n",
      " ('aus', 'aus', 'PTKVZ'),\n",
      " ('.', '--', '$.')]\n",
      "[('Als', 'als', 'APPR'),\n",
      " ('Spezialistin', 'Spezialistin', 'NN'),\n",
      " ('für', 'für', 'APPR'),\n",
      " ('Recruiting', 'Recruiting', 'NE'),\n",
      " ('betreibt', 'betreiben', 'VVFIN'),\n",
      " ('die', 'die', 'ART'),\n",
      " ('UHHMG', 'Uhhmg', 'NE'),\n",
      " ('unter', 'unter', 'APPR'),\n",
      " ('der', 'der', 'ART'),\n",
      " ('Marke', 'Mark', 'NN'),\n",
      " ('„', '„', 'FM'),\n",
      " ('stellenwerk', 'Stellenwerk', 'NN'),\n",
      " ('“', '“', 'FM'),\n",
      " ('verschiedene', 'verschieden', 'ADJA'),\n",
      " ('Recruiting-Formate', 'Recruiting-formate', 'NN'),\n",
      " ('zur', 'zur', 'APPRART'),\n",
      " ('studentischen', 'studentisch', 'ADJA'),\n",
      " ('Personalbeschaffung', 'Personalbeschaffung', 'NN'),\n",
      " ('wie', 'wie', 'KOKOM'),\n",
      " ('Online-Stellenbörsen', 'Online-stellenbörsen', 'NE'),\n",
      " (',', '--', '$,'),\n",
      " ('die', 'die', 'PRELS'),\n",
      " ('deutschlandweit', 'deutschlandweit', 'ADJD'),\n",
      " ('in', 'in', 'APPR'),\n",
      " ('Zusammenarbeit', 'Zusammenarbeit', 'NN'),\n",
      " ('mit', 'mit', 'APPR'),\n",
      " ('19', '19', 'CARD'),\n",
      " ('Hochschulpartnern', 'Hochschulpartnern', 'NN'),\n",
      " ('betrieben', 'betreiben', 'VVPP'),\n",
      " ('werden', 'werden', 'VAINF'),\n",
      " (',', '--', '$,'),\n",
      " ('Online-Magazine', 'Online-magazine', 'NN'),\n",
      " ('und', 'und', 'KON'),\n",
      " ('virtuelle', 'virtuell', 'ADJA'),\n",
      " ('Jobmessen', 'Jobmesse', 'NN'),\n",
      " ('und', 'und', 'KON'),\n",
      " ('Events', 'events', 'FM'),\n",
      " ('.', '--', '$.')]\n",
      "[('Auf', 'auf', 'APPR'),\n",
      " ('den', 'den', 'ART'),\n",
      " ('stellenwerk-Jobportalen', 'stellenwerk-jobportal', 'ADJA'),\n",
      " ('finden', 'finden', 'VVFIN'),\n",
      " ('Studierende', 'Studierend', 'NN'),\n",
      " ('einen', 'einen', 'ART'),\n",
      " ('Nebenjob', 'Nebenjob', 'NN'),\n",
      " ('zur', 'zur', 'APPRART'),\n",
      " ('Finanzierung', 'Finanzierung', 'NN'),\n",
      " ('des', 'des', 'ART'),\n",
      " ('Studiums', 'Studium', 'NN'),\n",
      " (',', '--', '$,'),\n",
      " ('Praktika', 'Praktikum', 'NN'),\n",
      " ('oder', 'oder', 'KON'),\n",
      " ('Abschlussarbeiten', 'Abschlussarbeit', 'NN'),\n",
      " (',', '--', '$,'),\n",
      " ('und', 'und', 'KON'),\n",
      " ('für', 'für', 'APPR'),\n",
      " ('Absolvent', 'Absolvent', 'NN'),\n",
      " ('*', '*', 'XY'),\n",
      " ('innen', 'innen', 'ADV'),\n",
      " ('werden', 'werden', 'VAFIN'),\n",
      " ('Einstiegspositionen', 'Einstiegsposition', 'NN'),\n",
      " ('angeboten', 'anbieten', 'VVPP'),\n",
      " ('.', '--', '$.')]\n",
      "[('Für', 'für', 'APPR'),\n",
      " ('die', 'die', 'ART'),\n",
      " ('Bespielung', 'Bespielung', 'NN'),\n",
      " ('und', 'und', 'KON'),\n",
      " ('Pflege', 'Pflege', 'NN'),\n",
      " ('der', 'der', 'ART'),\n",
      " ('Jobboards', 'jobboards', 'FM'),\n",
      " ('des', 'des', 'FM'),\n",
      " ('stellenwerks', 'stellenwerks', 'FM'),\n",
      " ('und', 'und', 'KON'),\n",
      " ('der', 'der', 'ART'),\n",
      " ('Plakatwechselrahmen', 'Plakatwechselrahmen', 'NN'),\n",
      " ('(', '--', '$('),\n",
      " ('DIN', 'Din', 'NN'),\n",
      " ('A0', 'A0', 'NE'),\n",
      " ('und', 'und', 'KON'),\n",
      " ('DIN', 'Di', 'NE'),\n",
      " ('A1', 'A1', 'NE'),\n",
      " (')', '--', '$('),\n",
      " ('auf', 'auf', 'APPR'),\n",
      " ('dem', 'dem', 'ART'),\n",
      " ('Hauptcampus', 'Hauptcampus', 'NN'),\n",
      " ('der', 'der', 'ART'),\n",
      " ('Universität', 'Universität', 'NN'),\n",
      " ('Hamburg', 'Hamburg', 'NE'),\n",
      " ('und', 'und', 'KON'),\n",
      " ('seinen', 'sein', 'PPOSAT'),\n",
      " ('außerhalb', 'außerhalb', 'APPR'),\n",
      " ('gelegenen', 'gelegen', 'ADJA'),\n",
      " ('Nebenstellen', 'Nebenstellen', 'NN'),\n",
      " ('suchen', 'suchen', 'VVFIN'),\n",
      " ('wir', 'wir', 'PPER'),\n",
      " ('zum', 'zum', 'APPRART'),\n",
      " ('nächstmöglichen', 'nächstmöglich', 'ADJA'),\n",
      " ('Zeitpunkt', 'Zeitpunkt', 'NN'),\n",
      " ('eine', 'eine', 'ART'),\n",
      " ('studentische', 'studentisch', 'ADJA'),\n",
      " ('Hilfskraft', 'Hilfskraft', 'NN'),\n",
      " ('.', '--', '$.')]\n"
     ]
    }
   ],
   "source": [
    "sentences = [sentence.text for sentence in doc.sents]\n",
    "for sent in sentences:\n",
    "    wort = nltk.word_tokenize(sent)\n",
    "    lemmata = tagger.tag_sent(wort,taglevel= 1)\n",
    "    pprint(lemmata)    "
   ]
  },
  {
   "cell_type": "markdown",
   "id": "a210b017",
   "metadata": {},
   "source": [
    "## Stoppwörter"
   ]
  },
  {
   "cell_type": "code",
   "execution_count": 88,
   "id": "71d8532f",
   "metadata": {},
   "outputs": [],
   "source": [
    "stopwords = nltk.corpus.stopwords.words('german')"
   ]
  },
  {
   "cell_type": "code",
   "execution_count": 89,
   "id": "5dcb3e87",
   "metadata": {},
   "outputs": [
    {
     "name": "stdout",
     "output_type": "stream",
     "text": [
      "['aber', 'alle', 'allem', 'allen', 'aller', 'alles', 'als', 'also', 'am', 'an', 'ander', 'andere', 'anderem', 'anderen', 'anderer', 'anderes', 'anderm', 'andern', 'anderr', 'anders', 'auch', 'auf', 'aus', 'bei', 'bin', 'bis', 'bist', 'da', 'damit', 'dann', 'der', 'den', 'des', 'dem', 'die', 'das', 'dass', 'daß', 'derselbe', 'derselben', 'denselben', 'desselben', 'demselben', 'dieselbe', 'dieselben', 'dasselbe', 'dazu', 'dein', 'deine', 'deinem', 'deinen', 'deiner', 'deines', 'denn', 'derer', 'dessen', 'dich', 'dir', 'du', 'dies', 'diese', 'diesem', 'diesen', 'dieser', 'dieses', 'doch', 'dort', 'durch', 'ein', 'eine', 'einem', 'einen', 'einer', 'eines', 'einig', 'einige', 'einigem', 'einigen', 'einiger', 'einiges', 'einmal', 'er', 'ihn', 'ihm', 'es', 'etwas', 'euer', 'eure', 'eurem', 'euren', 'eurer', 'eures', 'für', 'gegen', 'gewesen', 'hab', 'habe', 'haben', 'hat', 'hatte', 'hatten', 'hier', 'hin', 'hinter', 'ich', 'mich', 'mir', 'ihr', 'ihre', 'ihrem', 'ihren', 'ihrer', 'ihres', 'euch', 'im', 'in', 'indem', 'ins', 'ist', 'jede', 'jedem', 'jeden', 'jeder', 'jedes', 'jene', 'jenem', 'jenen', 'jener', 'jenes', 'jetzt', 'kann', 'kein', 'keine', 'keinem', 'keinen', 'keiner', 'keines', 'können', 'könnte', 'machen', 'man', 'manche', 'manchem', 'manchen', 'mancher', 'manches', 'mein', 'meine', 'meinem', 'meinen', 'meiner', 'meines', 'mit', 'muss', 'musste', 'nach', 'nicht', 'nichts', 'noch', 'nun', 'nur', 'ob', 'oder', 'ohne', 'sehr', 'sein', 'seine', 'seinem', 'seinen', 'seiner', 'seines', 'selbst', 'sich', 'sie', 'ihnen', 'sind', 'so', 'solche', 'solchem', 'solchen', 'solcher', 'solches', 'soll', 'sollte', 'sondern', 'sonst', 'über', 'um', 'und', 'uns', 'unsere', 'unserem', 'unseren', 'unser', 'unseres', 'unter', 'viel', 'vom', 'von', 'vor', 'während', 'war', 'waren', 'warst', 'was', 'weg', 'weil', 'weiter', 'welche', 'welchem', 'welchen', 'welcher', 'welches', 'wenn', 'werde', 'werden', 'wie', 'wieder', 'will', 'wir', 'wird', 'wirst', 'wo', 'wollen', 'wollte', 'würde', 'würden', 'zu', 'zum', 'zur', 'zwar', 'zwischen']\n"
     ]
    }
   ],
   "source": [
    "print(stopwords)"
   ]
  },
  {
   "cell_type": "code",
   "execution_count": 90,
   "id": "9064faba",
   "metadata": {},
   "outputs": [],
   "source": [
    "words = [word for word in words if word.lower() not in stopwords]"
   ]
  },
  {
   "cell_type": "code",
   "execution_count": 92,
   "id": "2f63e4f8",
   "metadata": {},
   "outputs": [
    {
     "name": "stdout",
     "output_type": "stream",
     "text": [
      "['Universität', 'Hamburg', 'Marketing', 'GmbH', '(', 'UHHMG', ')', ',', 'hundertprozentige', 'Tochtergesellschaft', 'Universität', 'Hamburg', '(', 'UHH', ')', ',', 'Full', 'Service-', 'Dienstleistungsagentur', '.', 'rund', '30', 'Beschäftigten', 'zeichnet', 'Schnittstelle', 'Universität', ',', 'Wirtschaft', ',', 'Öffentlichkeit', 'Politik', '.', 'Spezialistin', 'Recruiting', 'betreibt', 'UHHMG', 'Marke', '„', 'stellenwerk', '“', 'verschiedene', 'Recruiting-Formate', 'studentischen', 'Personalbeschaffung', 'Online-Stellenbörsen', ',', 'deutschlandweit', 'Zusammenarbeit', '19', 'Hochschulpartnern', 'betrieben', ',', 'Online-Magazine', 'virtuelle', 'Jobmessen', 'Events', '.', 'stellenwerk-Jobportalen', 'finden', 'Studierende', 'Nebenjob', 'Finanzierung', 'Studiums', ',', 'Praktika', 'Abschlussarbeiten', ',', 'Absolvent*innen', 'Einstiegspositionen', 'angeboten', '.', 'Bespielung', 'Pflege', 'Jobboards', 'stellenwerks', 'Plakatwechselrahmen', '(', 'DIN', 'A0', 'DIN', 'A1', ')', 'Hauptcampus', 'Universität', 'Hamburg', 'außerhalb', 'gelegenen', 'Nebenstellen', 'suchen', 'nächstmöglichen', 'Zeitpunkt', 'studentische', 'Hilfskraft', '.']\n"
     ]
    }
   ],
   "source": [
    "print(words)"
   ]
  },
  {
   "cell_type": "markdown",
   "id": "9f21bdc5",
   "metadata": {},
   "source": [
    "## Worthäufigkeiten"
   ]
  },
  {
   "cell_type": "code",
   "execution_count": 93,
   "id": "d2661c55",
   "metadata": {},
   "outputs": [],
   "source": [
    "from nltk.probability import FreqDist"
   ]
  },
  {
   "cell_type": "code",
   "execution_count": 94,
   "id": "92bb59a0",
   "metadata": {},
   "outputs": [],
   "source": [
    "freq_dist = FreqDist(word.lower() for word in words)"
   ]
  },
  {
   "cell_type": "code",
   "execution_count": 95,
   "id": "07d0bae5",
   "metadata": {},
   "outputs": [
    {
     "name": "stdout",
     "output_type": "stream",
     "text": [
      "<FreqDist with 72 samples and 94 outcomes>\n"
     ]
    }
   ],
   "source": [
    "print(freq_dist)"
   ]
  },
  {
   "cell_type": "code",
   "execution_count": 98,
   "id": "3642855c",
   "metadata": {},
   "outputs": [],
   "source": [
    "words_with_freqs = [(word, freq_dist[word]) for word in freq_dist.keys()]"
   ]
  },
  {
   "cell_type": "code",
   "execution_count": 103,
   "id": "ac3d230a",
   "metadata": {},
   "outputs": [],
   "source": [
    "sorted_words = sorted(words_with_freqs, reverse = True, key = lambda tup: tup[1])"
   ]
  },
  {
   "cell_type": "code",
   "execution_count": 104,
   "id": "f52bdab9",
   "metadata": {},
   "outputs": [
    {
     "data": {
      "text/plain": [
       "[(',', 8),\n",
       " ('.', 5),\n",
       " ('universität', 4),\n",
       " ('hamburg', 3),\n",
       " ('(', 3),\n",
       " (')', 3),\n",
       " ('uhhmg', 2),\n",
       " ('din', 2),\n",
       " ('marketing', 1),\n",
       " ('gmbh', 1),\n",
       " ('hundertprozentige', 1),\n",
       " ('tochtergesellschaft', 1),\n",
       " ('uhh', 1),\n",
       " ('full', 1),\n",
       " ('service-', 1),\n",
       " ('dienstleistungsagentur', 1),\n",
       " ('rund', 1),\n",
       " ('30', 1),\n",
       " ('beschäftigten', 1),\n",
       " ('zeichnet', 1),\n",
       " ('schnittstelle', 1),\n",
       " ('wirtschaft', 1),\n",
       " ('öffentlichkeit', 1),\n",
       " ('politik', 1),\n",
       " ('spezialistin', 1),\n",
       " ('recruiting', 1),\n",
       " ('betreibt', 1),\n",
       " ('marke', 1),\n",
       " ('„', 1),\n",
       " ('stellenwerk', 1),\n",
       " ('“', 1),\n",
       " ('verschiedene', 1),\n",
       " ('recruiting-formate', 1),\n",
       " ('studentischen', 1),\n",
       " ('personalbeschaffung', 1),\n",
       " ('online-stellenbörsen', 1),\n",
       " ('deutschlandweit', 1),\n",
       " ('zusammenarbeit', 1),\n",
       " ('19', 1),\n",
       " ('hochschulpartnern', 1),\n",
       " ('betrieben', 1),\n",
       " ('online-magazine', 1),\n",
       " ('virtuelle', 1),\n",
       " ('jobmessen', 1),\n",
       " ('events', 1),\n",
       " ('stellenwerk-jobportalen', 1),\n",
       " ('finden', 1),\n",
       " ('studierende', 1),\n",
       " ('nebenjob', 1),\n",
       " ('finanzierung', 1),\n",
       " ('studiums', 1),\n",
       " ('praktika', 1),\n",
       " ('abschlussarbeiten', 1),\n",
       " ('absolvent*innen', 1),\n",
       " ('einstiegspositionen', 1),\n",
       " ('angeboten', 1),\n",
       " ('bespielung', 1),\n",
       " ('pflege', 1),\n",
       " ('jobboards', 1),\n",
       " ('stellenwerks', 1),\n",
       " ('plakatwechselrahmen', 1),\n",
       " ('a0', 1),\n",
       " ('a1', 1),\n",
       " ('hauptcampus', 1),\n",
       " ('außerhalb', 1),\n",
       " ('gelegenen', 1),\n",
       " ('nebenstellen', 1),\n",
       " ('suchen', 1),\n",
       " ('nächstmöglichen', 1),\n",
       " ('zeitpunkt', 1),\n",
       " ('studentische', 1),\n",
       " ('hilfskraft', 1)]"
      ]
     },
     "execution_count": 104,
     "metadata": {},
     "output_type": "execute_result"
    }
   ],
   "source": [
    "sorted_words"
   ]
  },
  {
   "cell_type": "code",
   "execution_count": null,
   "id": "ef139863",
   "metadata": {},
   "outputs": [],
   "source": []
  }
 ],
 "metadata": {
  "kernelspec": {
   "display_name": "Python 3",
   "language": "python",
   "name": "python3"
  },
  "language_info": {
   "codemirror_mode": {
    "name": "ipython",
    "version": 3
   },
   "file_extension": ".py",
   "mimetype": "text/x-python",
   "name": "python",
   "nbconvert_exporter": "python",
   "pygments_lexer": "ipython3",
   "version": "3.8.8"
  }
 },
 "nbformat": 4,
 "nbformat_minor": 5
}
